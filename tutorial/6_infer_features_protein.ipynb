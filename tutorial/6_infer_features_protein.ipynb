{
 "cells": [
  {
   "cell_type": "code",
   "execution_count": 1,
   "metadata": {},
   "outputs": [
    {
     "name": "stdout",
     "output_type": "stream",
     "text": [
      "Requirement already satisfied: MDAnalysis in ./conda_envs/torch/lib/python3.11/site-packages (2.7.0)\n",
      "Requirement already satisfied: numpy<2.0,>=1.22.3 in ./conda_envs/torch/lib/python3.11/site-packages (from MDAnalysis) (1.26.4)\n",
      "Requirement already satisfied: GridDataFormats>=0.4.0 in ./conda_envs/torch/lib/python3.11/site-packages (from MDAnalysis) (1.0.2)\n",
      "Requirement already satisfied: mmtf-python>=1.0.0 in ./conda_envs/torch/lib/python3.11/site-packages (from MDAnalysis) (1.1.3)\n",
      "Requirement already satisfied: joblib>=0.12 in ./conda_envs/torch/lib/python3.11/site-packages (from MDAnalysis) (1.3.2)\n",
      "Requirement already satisfied: scipy>=1.5.0 in ./conda_envs/torch/lib/python3.11/site-packages (from MDAnalysis) (1.11.4)\n",
      "Requirement already satisfied: matplotlib>=1.5.1 in ./conda_envs/torch/lib/python3.11/site-packages (from MDAnalysis) (3.8.0)\n",
      "Requirement already satisfied: tqdm>=4.43.0 in ./conda_envs/torch/lib/python3.11/site-packages (from MDAnalysis) (4.66.2)\n",
      "Requirement already satisfied: threadpoolctl in ./conda_envs/torch/lib/python3.11/site-packages (from MDAnalysis) (3.3.0)\n",
      "Requirement already satisfied: packaging in ./conda_envs/torch/lib/python3.11/site-packages (from MDAnalysis) (23.1)\n",
      "Requirement already satisfied: fasteners in ./conda_envs/torch/lib/python3.11/site-packages (from MDAnalysis) (0.19)\n",
      "Requirement already satisfied: mda-xdrlib in ./conda_envs/torch/lib/python3.11/site-packages (from MDAnalysis) (0.2.0)\n",
      "Requirement already satisfied: mrcfile in ./conda_envs/torch/lib/python3.11/site-packages (from GridDataFormats>=0.4.0->MDAnalysis) (1.5.0)\n",
      "Requirement already satisfied: contourpy>=1.0.1 in ./conda_envs/torch/lib/python3.11/site-packages (from matplotlib>=1.5.1->MDAnalysis) (1.2.1)\n",
      "Requirement already satisfied: cycler>=0.10 in ./conda_envs/torch/lib/python3.11/site-packages (from matplotlib>=1.5.1->MDAnalysis) (0.12.1)\n",
      "Requirement already satisfied: fonttools>=4.22.0 in ./conda_envs/torch/lib/python3.11/site-packages (from matplotlib>=1.5.1->MDAnalysis) (4.44.0)\n",
      "Requirement already satisfied: kiwisolver>=1.0.1 in ./conda_envs/torch/lib/python3.11/site-packages (from matplotlib>=1.5.1->MDAnalysis) (1.4.5)\n",
      "Requirement already satisfied: pillow>=6.2.0 in ./conda_envs/torch/lib/python3.11/site-packages (from matplotlib>=1.5.1->MDAnalysis) (10.2.0)\n",
      "Requirement already satisfied: pyparsing>=2.3.1 in ./conda_envs/torch/lib/python3.11/site-packages (from matplotlib>=1.5.1->MDAnalysis) (3.0.9)\n",
      "Requirement already satisfied: python-dateutil>=2.7 in ./conda_envs/torch/lib/python3.11/site-packages (from matplotlib>=1.5.1->MDAnalysis) (2.8.2)\n",
      "Requirement already satisfied: msgpack>=1.0.0 in ./conda_envs/torch/lib/python3.11/site-packages (from mmtf-python>=1.0.0->MDAnalysis) (1.0.7)\n",
      "Requirement already satisfied: six>=1.5 in ./conda_envs/torch/lib/python3.11/site-packages (from python-dateutil>=2.7->matplotlib>=1.5.1->MDAnalysis) (1.16.0)\n"
     ]
    }
   ],
   "source": [
    "# okay, just take a breath and start with something easy and canonical\n",
    "!pip install MDAnalysis\n"
   ]
  },
  {
   "cell_type": "code",
   "execution_count": 2,
   "metadata": {},
   "outputs": [
    {
     "name": "stderr",
     "output_type": "stream",
     "text": [
      "/project/dinner/zpengmei/conda_envs/torch/lib/python3.11/site-packages/MDAnalysis/coordinates/DCD.py:165: DeprecationWarning: DCDReader currently makes independent timesteps by copying self.ts while other readers update self.ts inplace. This behavior will be changed in 3.0 to be the same as other readers. Read more at https://github.com/MDAnalysis/mdanalysis/issues/3889 to learn if this change in behavior might affect you.\n",
      "  warnings.warn(\"DCDReader currently makes independent timesteps\"\n"
     ]
    }
   ],
   "source": [
    "import MDAnalysis as mda\n",
    "import numpy as np\n",
    "\n",
    "top_file = '/beagle3/dinner/kjeong/Insulin_md/input/parm/charmm-gui-3w7y-dimer-ins/step3_pbcsetup.psf'\n",
    "traj_file = '/beagle3/dinner/kjeong/Insulin_md/run_openmm/output_cat/concat_s00i00.dcd'\n",
    "u = mda.Universe(top_file, traj_file)\n"
   ]
  },
  {
   "cell_type": "code",
   "execution_count": 3,
   "metadata": {},
   "outputs": [],
   "source": [
    "from collections import Counter\n",
    "\n",
    "def count_segments(numbers):\n",
    "    segments = []\n",
    "    current_segment = [numbers[0]]\n",
    "    \n",
    "    for i in range(1, len(numbers)):\n",
    "        if numbers[i] == numbers[i-1]:\n",
    "            current_segment.append(numbers[i])\n",
    "        else:\n",
    "            segments.append(current_segment)\n",
    "            current_segment = [numbers[i]]\n",
    "    segments.append(current_segment)  # Add the last segment\n",
    "    \n",
    "    # Count elements in each segment\n",
    "    segment_counts = [Counter(segment) for segment in segments]\n",
    "    \n",
    "    segment_counts_array = np.array([list(segment_count.values()) for segment_count in segment_counts])\n",
    "\n",
    "    segment_counts_array = np.concatenate(segment_counts_array, axis=0)\n",
    "\n",
    "    return segment_counts_array\n",
    "\n",
    "def extract_info(u):\n",
    "\n",
    "    # Select protein atoms, excluding hydrogens\n",
    "    protein = u.select_atoms('protein and prop mass > 1.5 ')\n",
    "\n",
    "    # Get all residues in the protein selection\n",
    "    protein_residues = protein.residues\n",
    "\n",
    "    # Calculate the center of mass of the protein\n",
    "    protein_center = protein.center_of_mass()\n",
    "\n",
    "    # Get all TIP3P atoms (adjust the resname as necessary)\n",
    "    all_waters = u.select_atoms('resname TIP3')\n",
    "\n",
    "    # Calculate the distances from each lipid atom to the protein center of mass\n",
    "    distances = np.linalg.norm(all_waters.positions - protein_center, axis=1)\n",
    "\n",
    "    # Filter atoms within 15 angstroms of the protein center\n",
    "    waters_near_protein = all_waters[distances < 15]\n",
    "\n",
    "    all_water_prot = protein + waters_near_protein\n",
    "\n",
    "    # get the mapping from mass to atom type\n",
    "    atomic_masses = all_water_prot.masses\n",
    "    # just match the first three decimal places\n",
    "    atomic_masses = np.round(atomic_masses, 3)\n",
    "    mass_mapping = {'C':12.011, 'N':14.007, 'O':15.999,'P':30.974, 'H': 1.008, 'S': 32.06}\n",
    "    # map to atom types\n",
    "    atomic_types = [list(mass_mapping.keys())[list(mass_mapping.values()).index(mass)] for mass in atomic_masses]\n",
    "    # mapping from atom type to atomic number\n",
    "    atomic_mapping = {'H': 1, 'C': 6, 'N': 7, 'O': 8, 'P': 15, 'S': 16}\n",
    "    # get atomic numbers\n",
    "    atomic_numbers = [atomic_mapping[atom] for atom in atomic_types]\n",
    "\n",
    "    unique_numbers, counts = np.unique(all_water_prot.resids, return_counts=True)\n",
    "\n",
    "    # get the positions of the whole trajectory\n",
    "    # loop over the trajectory frames\n",
    "    positions = []\n",
    "    for ts in u.trajectory:\n",
    "        # get the positions of the lipids\n",
    "        positions.append(all_water_prot.positions.copy())\n",
    "    \n",
    "    positions = np.array(positions)\n",
    "\n",
    "    segment_counts = count_segments(all_water_prot.resids)\n",
    "\n",
    "    # stride 3\n",
    "\n",
    "    positions = positions[::3]\n",
    "\n",
    "    return positions, np.array(atomic_numbers), np.array(segment_counts)\n",
    "\n",
    "positions, atomic_numbers, segment_counts = extract_info(u)"
   ]
  },
  {
   "cell_type": "code",
   "execution_count": 5,
   "metadata": {},
   "outputs": [
    {
     "data": {
      "text/plain": [
       "<ResidueGroup with 102 residues>"
      ]
     },
     "execution_count": 5,
     "metadata": {},
     "output_type": "execute_result"
    }
   ],
   "source": [
    "# Select protein atoms, excluding hydrogens\n",
    "protein = u.select_atoms('protein and prop mass > 1.5 ')\n",
    "# Get all residues in the protein selection\n",
    "protein_residues = protein.residues\n",
    "protein_residues"
   ]
  },
  {
   "cell_type": "code",
   "execution_count": 6,
   "metadata": {},
   "outputs": [
    {
     "data": {
      "text/plain": [
       "array([ 4,  8,  7,  9,  9,  6,  6,  7,  6,  8,  6,  6,  8, 12,  9,  8,  9,\n",
       "        8, 12,  6,  9, 11,  7,  8,  9, 10,  8,  6,  4,  6, 10,  8,  7,  9,\n",
       "        5,  8, 12,  8,  7,  6,  4,  9, 11,  4, 11, 11, 12,  7,  7,  9,  8,\n",
       "        4,  8,  7,  9,  9,  6,  6,  7,  6,  8,  6,  6,  8, 12,  9,  8,  9,\n",
       "        8, 12,  6,  9, 11,  7,  8,  9, 10,  8,  6,  4,  6, 10,  8,  7,  9,\n",
       "        5,  8, 12,  8,  7,  6,  4,  9, 11,  4, 11, 11, 12,  7,  7,  9,  8,\n",
       "        3,  3,  3,  3,  3,  3,  3,  3,  3,  3,  3,  3,  3,  3,  1,  3,  3,\n",
       "        3,  3,  3,  3,  1,  3,  3,  3,  3,  3,  3,  3,  3,  3,  3,  3,  3,\n",
       "        3,  1,  2,  1,  1,  3,  3,  3,  3,  3,  1,  3,  3,  3,  3,  3,  1,\n",
       "        3,  3,  3,  3,  3,  3,  3,  3,  3,  3,  3,  3,  2,  3,  3,  2,  3,\n",
       "        3,  3,  3,  3,  1,  3,  2,  3,  3,  3,  3,  3,  3,  3,  3,  3,  3,\n",
       "        3,  3,  3,  3,  3,  3,  3,  3,  3,  3,  3,  3,  3,  1,  3,  3,  3,\n",
       "        3,  3,  3,  3,  3,  3,  3,  3,  3,  1,  3,  1,  3,  3,  3,  3,  3,\n",
       "        3,  3,  3,  3,  3,  3,  3,  3,  3,  3,  3,  3,  3,  3,  3,  3,  3,\n",
       "        3,  3,  3,  3,  3,  3,  3,  3,  1,  1,  3,  3,  2,  3,  3,  1,  2,\n",
       "        3,  3,  3,  3,  3,  3,  3,  3,  3,  3,  2,  3,  3,  3,  3,  3,  3,\n",
       "        3,  2,  3,  3,  3,  2,  3,  3,  3,  3,  3,  3,  3,  3,  3,  3,  3,\n",
       "        3,  3,  3,  3,  3,  1,  3,  3,  3,  3,  3,  1,  3,  3,  3,  3,  3,\n",
       "        3,  3,  3,  3,  3,  3,  3,  3,  3,  3,  3,  3,  1,  3,  1,  3,  2,\n",
       "        3,  3,  3,  3,  3,  3,  3,  3,  3,  3,  3,  3,  2,  3,  1,  3,  3,\n",
       "        3,  2,  3,  2,  3,  3,  3,  3,  2,  3,  3,  1,  3,  3,  3,  3,  2,\n",
       "        3,  3,  3,  3,  3,  3,  3,  3,  3,  3,  3,  3,  3,  3,  3,  3,  3,\n",
       "        3,  2,  3,  3,  3,  3,  3,  3,  3,  1,  3,  3,  3,  1,  3,  3,  3,\n",
       "        3,  3,  3,  1,  3,  3,  3,  3,  3,  3,  1,  3,  3,  3,  3,  3,  3,\n",
       "        3,  3,  3,  3,  3,  3,  3,  3,  3,  3,  3,  3,  3,  3,  3,  3,  3,\n",
       "        3,  3,  3,  3,  3,  3,  3,  3,  3,  2,  2,  3,  3,  3,  3,  3])"
      ]
     },
     "execution_count": 6,
     "metadata": {},
     "output_type": "execute_result"
    }
   ],
   "source": [
    "segment_counts # insulin dimer has 102 residues and remaining are environment"
   ]
  },
  {
   "cell_type": "code",
   "execution_count": 7,
   "metadata": {},
   "outputs": [
    {
     "name": "stderr",
     "output_type": "stream",
     "text": [
      "/project/dinner/zpengmei/conda_envs/torch/lib/python3.11/site-packages/torch_geometric/typing.py:54: UserWarning: An issue occurred while importing 'pyg-lib'. Disabling its usage. Stacktrace: /lib64/libm.so.6: version `GLIBC_2.29' not found (required by /project/dinner/zpengmei/conda_envs/torch/lib/python3.11/site-packages/libpyg.so)\n",
      "  warnings.warn(f\"An issue occurred while importing 'pyg-lib'. \"\n",
      "/project/dinner/zpengmei/conda_envs/torch/lib/python3.11/site-packages/torch_geometric/typing.py:110: UserWarning: An issue occurred while importing 'torch-sparse'. Disabling its usage. Stacktrace: /lib64/libm.so.6: version `GLIBC_2.29' not found (required by /project/dinner/zpengmei/conda_envs/torch/lib/python3.11/site-packages/libpyg.so)\n",
      "  warnings.warn(f\"An issue occurred while importing 'torch-sparse'. \"\n",
      "/project/dinner/zpengmei/conda_envs/torch/lib/python3.11/site-packages/transformers/utils/generic.py:441: UserWarning: torch.utils._pytree._register_pytree_node is deprecated. Please use torch.utils._pytree.register_pytree_node instead.\n",
      "  _torch_pytree._register_pytree_node(\n",
      "/project/dinner/zpengmei/conda_envs/torch/lib/python3.11/site-packages/torch_geometric/nn/conv/message_passing.py:966: UserWarning: 'EquivariantMultiHeadAttention.jittable' is deprecated and a no-op. Please remove its usage.\n",
      "  warnings.warn(f\"'{self.__class__.__name__}.jittable' is deprecated \"\n"
     ]
    },
    {
     "data": {
      "text/plain": [
       "TorchMD_Net(\n",
       "  (representation_model): TorchMD_ET(hidden_channels=256, num_layers=9, num_rbf=64, rbf_type=expnorm, trainable_rbf=False, activation=silu, attn_activation=silu, neighbor_embedding=None, num_heads=8, distance_influence=both, cutoff_lower=0.0, cutoff_upper=7.5)\n",
       "  (output_model_noise): EquivariantScalar(\n",
       "    (output_network): ModuleList(\n",
       "      (0): GatedEquivariantBlock(\n",
       "        (vec1_proj): Linear(in_features=256, out_features=256, bias=False)\n",
       "        (vec2_proj): Linear(in_features=256, out_features=128, bias=False)\n",
       "        (update_net): Sequential(\n",
       "          (0): Linear(in_features=512, out_features=256, bias=True)\n",
       "          (1): SiLU()\n",
       "          (2): Linear(in_features=256, out_features=256, bias=True)\n",
       "        )\n",
       "        (act): SiLU()\n",
       "      )\n",
       "      (1): GatedEquivariantBlock(\n",
       "        (vec1_proj): Linear(in_features=128, out_features=128, bias=False)\n",
       "        (vec2_proj): Linear(in_features=128, out_features=1, bias=False)\n",
       "        (update_net): Sequential(\n",
       "          (0): Linear(in_features=256, out_features=128, bias=True)\n",
       "          (1): SiLU()\n",
       "          (2): Linear(in_features=128, out_features=2, bias=True)\n",
       "        )\n",
       "      )\n",
       "    )\n",
       "  )\n",
       "  (pos_normalizer): AccumulatedNormalization()\n",
       ")"
      ]
     },
     "execution_count": 7,
     "metadata": {},
     "output_type": "execute_result"
    }
   ],
   "source": [
    "# load the pretrained model to featurize the trajectory\n",
    "\n",
    "from Geom2Vec.geom2vec.models.torchmd.main_model import create_model, get_args\n",
    "import torch\n",
    "\n",
    "hidden_channels = 256\n",
    "layers = 9\n",
    "nhead = 8\n",
    "\n",
    "device = torch.device('cuda' if torch.cuda.is_available() else 'cpu')\n",
    "\n",
    "args = get_args(hidden_channels=hidden_channels, num_layers=layers, num_rbf=64, num_heads=nhead, cutoff=7.5)\n",
    "model = create_model(args=args)\n",
    "checkpoint = torch.load('/project/dinner/zpengmei/Geom2Vec/geom2vec/checkpoints/et_l9_r64_c75_256_denali.pth')\n",
    "model.load_state_dict(checkpoint)\n",
    "model.to(device)"
   ]
  },
  {
   "cell_type": "code",
   "execution_count": 8,
   "metadata": {},
   "outputs": [],
   "source": [
    "from tqdm import tqdm\n",
    "from torch_scatter import scatter\n",
    "\n",
    "def get_features(xyz_list, counts, model):\n",
    "    features = []\n",
    "    features_masked = []\n",
    "    for traj_xyz in xyz_list:\n",
    "        traj_xyz = torch.tensor(traj_xyz, device=device).float()\n",
    "        count = torch.tensor(counts, device=device).long()\n",
    "        with torch.no_grad():\n",
    "            model.eval()\n",
    "            # batch the xyz\n",
    "            batch_size = 10\n",
    "            num_atoms = len(atomic_numbers)\n",
    "            z = torch.from_numpy(atomic_numbers).to(device)\n",
    "            out_rep_list = []\n",
    "            out_rep_masked_list = []\n",
    "            for pos_batch in tqdm(torch.split(traj_xyz, batch_size, dim=0)):\n",
    "                n_samples, n_atoms, _ = pos_batch.shape\n",
    "                z_batch = z.expand(n_samples, -1).reshape(-1).to(device)\n",
    "                batch_batch = (\n",
    "                    torch.arange(n_samples).unsqueeze(1).expand(-1, n_atoms).reshape(-1)\n",
    "                ).to(device)\n",
    "                x_rep, v_rep, _ = model(z=z_batch, pos=pos_batch.reshape(-1,3).contiguous().to(device), batch=batch_batch)\n",
    "                # Move the data to CPU and append to the output list\n",
    "                x_rep = x_rep.reshape(-1, num_atoms, hidden_channels)\n",
    "                out_rep = x_rep\n",
    "                sca_map = torch.repeat_interleave(torch.arange(count.shape[0], device=device), count, dim=0)\n",
    "                out_rep_masked = scatter(out_rep, sca_map, dim=1, reduce='add')[:,0:102,:] # only keep the protein residues \n",
    "                out_rep_list.append(out_rep.sum(1).detach().cpu().numpy())\n",
    "                out_rep_masked_list.append(out_rep_masked.detach().cpu().numpy())\n",
    "\n",
    "                torch.cuda.empty_cache()\n",
    "\n",
    "            features.append(np.concatenate(out_rep_list, axis=0))\n",
    "            features_masked.append(np.concatenate(out_rep_masked_list, axis=0))\n",
    "    return features, features_masked"
   ]
  },
  {
   "cell_type": "code",
   "execution_count": 9,
   "metadata": {},
   "outputs": [
    {
     "name": "stderr",
     "output_type": "stream",
     "text": [
      "100%|██████████████████████████████████████████████████████████████████████████████████████████████████████| 2500/2500 [00:46<00:00, 53.22it/s]\n"
     ]
    }
   ],
   "source": [
    "xyz_list = [xyz]\n",
    "features = get_features(xyz_list, model, batch_size=100, device=device)\n"
   ]
  },
  {
   "cell_type": "code",
   "execution_count": 12,
   "metadata": {},
   "outputs": [
    {
     "data": {
      "text/plain": [
       "(250000, 256)"
      ]
     },
     "execution_count": 12,
     "metadata": {},
     "output_type": "execute_result"
    }
   ],
   "source": [
    "# loop over the trajectory folder with .dcd files\n",
    "\n",
    "import os\n",
    "import glob\n",
    "from tqdm import tqdm\n",
    "top_file = '/beagle3/dinner/kjeong/Insulin_md/input/parm/charmm-gui-3w7y-dimer-ins/step3_pbcsetup.psf'\n",
    "folder = '/beagle3/dinner/kjeong/Insulin_md/run_openmm/output_cat/'\n",
    "\n",
    "traj_files = glob.glob(folder + '/*.dcd')\n",
    "num_trajs = len(traj_files)\n",
    "\n",
    "for i in range(0,int(num_trajs)):\n",
    "    traj_file = traj_files[i]\n",
    "    u = mda.Universe(top_file, traj_file)\n",
    "    positions, atomic_numbers, segment_counts = extract_info(u)\n",
    "    mask = torch.from_numpy(segment_counts).to(device)\n",
    "    features, features_masked = get_features([positions], mask, model)\n",
    "    # put the path to save the features\n",
    "    np.savez(f'your_path/features_{i}', features=features, features_masked=features_masked, traj_file=traj_file)\n"
   ]
  }
 ],
 "metadata": {
  "kernelspec": {
   "display_name": "Python 3 (ipykernel)",
   "language": "python",
   "name": "python3"
  },
  "language_info": {
   "codemirror_mode": {
    "name": "ipython",
    "version": 3
   },
   "file_extension": ".py",
   "mimetype": "text/x-python",
   "name": "python",
   "nbconvert_exporter": "python",
   "pygments_lexer": "ipython3",
   "version": "3.11.8"
  }
 },
 "nbformat": 4,
 "nbformat_minor": 2
}
