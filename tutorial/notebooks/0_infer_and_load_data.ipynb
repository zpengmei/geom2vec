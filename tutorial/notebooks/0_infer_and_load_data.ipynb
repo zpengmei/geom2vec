{
 "cells": [
  {
   "cell_type": "code",
   "execution_count": 13,
   "metadata": {},
   "outputs": [],
   "source": [
    "import os\n",
    "import sys\n",
    "import torch\n",
    "from geom2vec import create_model\n",
    "from geom2vec.data import infer_traj\n",
    "\n",
    "checkpoint_path = os.path.join(os.getcwd(), 'geom2vec/checkpoints/tensornet_l3_h128_rbf32_r5.pth')\n",
    "device = \"cuda\" if torch.cuda.is_available() else \"cpu\"\n",
    "\n",
    "rep_model = create_model(\n",
    "    model_type = 'tn',\n",
    "    checkpoint_path = checkpoint_path,\n",
    "    cutoff = 5,\n",
    "    hidden_channels = 128,\n",
    "    num_layers = 3,\n",
    "    num_rbf = 32,\n",
    "    device = device\n",
    ")"
   ]
  },
  {
   "cell_type": "code",
   "execution_count": 14,
   "metadata": {},
   "outputs": [
    {
     "name": "stdout",
     "output_type": "stream",
     "text": [
      "Processing CLN025-0-protein-000.dcd\n"
     ]
    },
    {
     "name": "stderr",
     "output_type": "stream",
     "text": [
      "/project/dinner/zpengmei/conda_envs/torch/lib/python3.11/site-packages/MDAnalysis/coordinates/DCD.py:165: DeprecationWarning: DCDReader currently makes independent timesteps by copying self.ts while other readers update self.ts inplace. This behavior will be changed in 3.0 to be the same as other readers. Read more at https://github.com/MDAnalysis/mdanalysis/issues/3889 to learn if this change in behavior might affect you.\n",
      "  warnings.warn(\"DCDReader currently makes independent timesteps\"\n"
     ]
    },
    {
     "name": "stdout",
     "output_type": "stream",
     "text": [
      "Processing CLN025-0-protein-001.dcd\n",
      "Processing CLN025-0-protein-002.dcd\n",
      "Processing CLN025-0-protein-003.dcd\n",
      "Processing CLN025-0-protein-004.dcd\n",
      "Processing CLN025-0-protein-005.dcd\n",
      "Processing CLN025-0-protein-006.dcd\n",
      "Processing CLN025-0-protein-007.dcd\n",
      "Processing CLN025-0-protein-008.dcd\n",
      "Processing CLN025-0-protein-009.dcd\n",
      "Processing CLN025-0-protein-010.dcd\n",
      "Processing CLN025-0-protein-011.dcd\n",
      "Processing CLN025-0-protein-012.dcd\n",
      "Processing CLN025-0-protein-013.dcd\n",
      "Processing CLN025-0-protein-014.dcd\n",
      "Processing CLN025-0-protein-015.dcd\n",
      "Processing CLN025-0-protein-016.dcd\n",
      "Processing CLN025-0-protein-017.dcd\n",
      "Processing CLN025-0-protein-018.dcd\n",
      "Processing CLN025-0-protein-019.dcd\n",
      "Processing CLN025-0-protein-020.dcd\n",
      "Processing CLN025-0-protein-021.dcd\n",
      "Processing CLN025-0-protein-022.dcd\n",
      "Processing CLN025-0-protein-023.dcd\n",
      "Processing CLN025-0-protein-024.dcd\n",
      "Processing CLN025-0-protein-025.dcd\n",
      "Processing CLN025-0-protein-026.dcd\n",
      "Processing CLN025-0-protein-027.dcd\n",
      "Processing CLN025-0-protein-028.dcd\n",
      "Processing CLN025-0-protein-029.dcd\n",
      "Processing CLN025-0-protein-030.dcd\n",
      "Processing CLN025-0-protein-031.dcd\n",
      "Processing CLN025-0-protein-032.dcd\n",
      "Processing CLN025-0-protein-033.dcd\n",
      "Processing CLN025-0-protein-034.dcd\n",
      "Processing CLN025-0-protein-035.dcd\n",
      "Processing CLN025-0-protein-036.dcd\n",
      "Processing CLN025-0-protein-037.dcd\n",
      "Processing CLN025-0-protein-038.dcd\n",
      "Processing CLN025-0-protein-039.dcd\n",
      "Processing CLN025-0-protein-040.dcd\n",
      "Processing CLN025-0-protein-041.dcd\n",
      "Processing CLN025-0-protein-042.dcd\n",
      "Processing CLN025-0-protein-043.dcd\n",
      "Processing CLN025-0-protein-044.dcd\n",
      "Processing CLN025-0-protein-045.dcd\n",
      "Processing CLN025-0-protein-046.dcd\n",
      "Processing CLN025-0-protein-047.dcd\n",
      "Processing CLN025-0-protein-048.dcd\n",
      "Processing CLN025-0-protein-049.dcd\n",
      "Processing CLN025-0-protein-050.dcd\n",
      "Processing CLN025-0-protein-051.dcd\n",
      "Processing CLN025-0-protein-052.dcd\n",
      "Processing CLN025-0-protein-053.dcd\n"
     ]
    }
   ],
   "source": [
    "from geom2vec.data import extract_mda_info, extract_mda_info_folder\n",
    "\n",
    "topology_file = \"/project/dinner/anton_trajs/Chignolin/DESRES-Trajectory_CLN025-0-protein/CLN025-0-protein/chignolin.pdb\"\n",
    "trajectory_folder = \"/project/dinner/anton_trajs/Chignolin/DESRES-Trajectory_CLN025-0-protein/CLN025-0-protein\" \n",
    "\n",
    "# you should carefully check the output to make sure the \n",
    "position_list, atomic_numbers, segment_counts, dcd_files = extract_mda_info_folder(\n",
    "    folder = trajectory_folder,\n",
    "    top_file = topology_file,\n",
    "    stride = 10,\n",
    "    selection = 'prop mass > 1.1', # by default, we only consider heavy atoms, this is the default selection\n",
    ")"
   ]
  },
  {
   "cell_type": "code",
   "execution_count": 3,
   "metadata": {},
   "outputs": [
    {
     "name": "stdout",
     "output_type": "stream",
     "text": [
      "166\n",
      "93\n"
     ]
    }
   ],
   "source": [
    "import MDAnalysis as mda\n",
    "\n",
    "topology_file = \"/project/dinner/anton_trajs/Chignolin/DESRES-Trajectory_CLN025-0-protein/CLN025-0-protein/chignolin.pdb\"\n",
    "trajectory_file = \"/project/dinner/anton_trajs/Chignolin/DESRES-Trajectory_CLN025-0-protein/CLN025-0-protein/CLN025-0-protein-000.dcd\" \n",
    "\n",
    "u = mda.Universe(topology_file, trajectory_file)\n",
    "# number of atoms\n",
    "print(len(u.atoms))\n",
    "# exclude hydrogens\n",
    "print(len(u.select_atoms('prop mass > 1.1')))\n"
   ]
  },
  {
   "cell_type": "code",
   "execution_count": 4,
   "metadata": {},
   "outputs": [
    {
     "name": "stdout",
     "output_type": "stream",
     "text": [
      "length of position_list: 54\n",
      "position_list[0].shape: (1000, 93, 3)\n",
      "atomic_numbers: (93,)\n"
     ]
    }
   ],
   "source": [
    "print(f'length of position_list: {len(position_list)}')\n",
    "print('position_list[0].shape:', position_list[0].shape)\n",
    "print('atomic_numbers:', atomic_numbers.shape)"
   ]
  },
  {
   "cell_type": "code",
   "execution_count": 5,
   "metadata": {},
   "outputs": [
    {
     "name": "stderr",
     "output_type": "stream",
     "text": [
      "100%|███████████████████████████████████████████████████████████████████████████████████████████████████████████████████| 10/10 [00:01<00:00,  5.14it/s]\n"
     ]
    },
    {
     "name": "stdout",
     "output_type": "stream",
     "text": [
      "Trajectory 0 has been saved to /project/dinner/zpengmei/geom2vec/results/chignolin_stride10 using torch.\n"
     ]
    },
    {
     "name": "stderr",
     "output_type": "stream",
     "text": [
      "100%|███████████████████████████████████████████████████████████████████████████████████████████████████████████████████| 10/10 [00:01<00:00,  5.68it/s]\n"
     ]
    },
    {
     "name": "stdout",
     "output_type": "stream",
     "text": [
      "Trajectory 1 has been saved to /project/dinner/zpengmei/geom2vec/results/chignolin_stride10 using torch.\n"
     ]
    },
    {
     "name": "stderr",
     "output_type": "stream",
     "text": [
      "100%|███████████████████████████████████████████████████████████████████████████████████████████████████████████████████| 10/10 [00:01<00:00,  5.47it/s]\n"
     ]
    },
    {
     "name": "stdout",
     "output_type": "stream",
     "text": [
      "Trajectory 2 has been saved to /project/dinner/zpengmei/geom2vec/results/chignolin_stride10 using torch.\n"
     ]
    },
    {
     "name": "stderr",
     "output_type": "stream",
     "text": [
      "100%|███████████████████████████████████████████████████████████████████████████████████████████████████████████████████| 10/10 [00:01<00:00,  5.81it/s]\n"
     ]
    },
    {
     "name": "stdout",
     "output_type": "stream",
     "text": [
      "Trajectory 3 has been saved to /project/dinner/zpengmei/geom2vec/results/chignolin_stride10 using torch.\n"
     ]
    },
    {
     "name": "stderr",
     "output_type": "stream",
     "text": [
      "100%|███████████████████████████████████████████████████████████████████████████████████████████████████████████████████| 10/10 [00:01<00:00,  6.01it/s]\n"
     ]
    },
    {
     "name": "stdout",
     "output_type": "stream",
     "text": [
      "Trajectory 4 has been saved to /project/dinner/zpengmei/geom2vec/results/chignolin_stride10 using torch.\n"
     ]
    },
    {
     "name": "stderr",
     "output_type": "stream",
     "text": [
      "100%|███████████████████████████████████████████████████████████████████████████████████████████████████████████████████| 10/10 [00:01<00:00,  5.69it/s]\n"
     ]
    },
    {
     "name": "stdout",
     "output_type": "stream",
     "text": [
      "Trajectory 5 has been saved to /project/dinner/zpengmei/geom2vec/results/chignolin_stride10 using torch.\n"
     ]
    },
    {
     "name": "stderr",
     "output_type": "stream",
     "text": [
      "100%|███████████████████████████████████████████████████████████████████████████████████████████████████████████████████| 10/10 [00:01<00:00,  5.70it/s]\n"
     ]
    },
    {
     "name": "stdout",
     "output_type": "stream",
     "text": [
      "Trajectory 6 has been saved to /project/dinner/zpengmei/geom2vec/results/chignolin_stride10 using torch.\n"
     ]
    },
    {
     "name": "stderr",
     "output_type": "stream",
     "text": [
      "100%|███████████████████████████████████████████████████████████████████████████████████████████████████████████████████| 10/10 [00:01<00:00,  5.52it/s]\n"
     ]
    },
    {
     "name": "stdout",
     "output_type": "stream",
     "text": [
      "Trajectory 7 has been saved to /project/dinner/zpengmei/geom2vec/results/chignolin_stride10 using torch.\n"
     ]
    },
    {
     "name": "stderr",
     "output_type": "stream",
     "text": [
      "100%|███████████████████████████████████████████████████████████████████████████████████████████████████████████████████| 10/10 [00:01<00:00,  5.49it/s]\n"
     ]
    },
    {
     "name": "stdout",
     "output_type": "stream",
     "text": [
      "Trajectory 8 has been saved to /project/dinner/zpengmei/geom2vec/results/chignolin_stride10 using torch.\n"
     ]
    },
    {
     "name": "stderr",
     "output_type": "stream",
     "text": [
      "100%|███████████████████████████████████████████████████████████████████████████████████████████████████████████████████| 10/10 [00:01<00:00,  6.06it/s]\n"
     ]
    },
    {
     "name": "stdout",
     "output_type": "stream",
     "text": [
      "Trajectory 9 has been saved to /project/dinner/zpengmei/geom2vec/results/chignolin_stride10 using torch.\n"
     ]
    },
    {
     "name": "stderr",
     "output_type": "stream",
     "text": [
      "100%|███████████████████████████████████████████████████████████████████████████████████████████████████████████████████| 10/10 [00:01<00:00,  5.47it/s]\n"
     ]
    },
    {
     "name": "stdout",
     "output_type": "stream",
     "text": [
      "Trajectory 10 has been saved to /project/dinner/zpengmei/geom2vec/results/chignolin_stride10 using torch.\n"
     ]
    },
    {
     "name": "stderr",
     "output_type": "stream",
     "text": [
      "100%|███████████████████████████████████████████████████████████████████████████████████████████████████████████████████| 10/10 [00:01<00:00,  5.46it/s]\n"
     ]
    },
    {
     "name": "stdout",
     "output_type": "stream",
     "text": [
      "Trajectory 11 has been saved to /project/dinner/zpengmei/geom2vec/results/chignolin_stride10 using torch.\n"
     ]
    },
    {
     "name": "stderr",
     "output_type": "stream",
     "text": [
      "100%|███████████████████████████████████████████████████████████████████████████████████████████████████████████████████| 10/10 [00:01<00:00,  5.48it/s]\n"
     ]
    },
    {
     "name": "stdout",
     "output_type": "stream",
     "text": [
      "Trajectory 12 has been saved to /project/dinner/zpengmei/geom2vec/results/chignolin_stride10 using torch.\n"
     ]
    },
    {
     "name": "stderr",
     "output_type": "stream",
     "text": [
      "100%|███████████████████████████████████████████████████████████████████████████████████████████████████████████████████| 10/10 [00:01<00:00,  5.49it/s]\n"
     ]
    },
    {
     "name": "stdout",
     "output_type": "stream",
     "text": [
      "Trajectory 13 has been saved to /project/dinner/zpengmei/geom2vec/results/chignolin_stride10 using torch.\n"
     ]
    },
    {
     "name": "stderr",
     "output_type": "stream",
     "text": [
      "100%|███████████████████████████████████████████████████████████████████████████████████████████████████████████████████| 10/10 [00:01<00:00,  5.50it/s]\n"
     ]
    },
    {
     "name": "stdout",
     "output_type": "stream",
     "text": [
      "Trajectory 14 has been saved to /project/dinner/zpengmei/geom2vec/results/chignolin_stride10 using torch.\n"
     ]
    },
    {
     "name": "stderr",
     "output_type": "stream",
     "text": [
      "100%|███████████████████████████████████████████████████████████████████████████████████████████████████████████████████| 10/10 [00:01<00:00,  5.56it/s]\n"
     ]
    },
    {
     "name": "stdout",
     "output_type": "stream",
     "text": [
      "Trajectory 15 has been saved to /project/dinner/zpengmei/geom2vec/results/chignolin_stride10 using torch.\n"
     ]
    },
    {
     "name": "stderr",
     "output_type": "stream",
     "text": [
      "100%|███████████████████████████████████████████████████████████████████████████████████████████████████████████████████| 10/10 [00:01<00:00,  5.96it/s]\n"
     ]
    },
    {
     "name": "stdout",
     "output_type": "stream",
     "text": [
      "Trajectory 16 has been saved to /project/dinner/zpengmei/geom2vec/results/chignolin_stride10 using torch.\n"
     ]
    },
    {
     "name": "stderr",
     "output_type": "stream",
     "text": [
      "100%|███████████████████████████████████████████████████████████████████████████████████████████████████████████████████| 10/10 [00:01<00:00,  5.57it/s]\n"
     ]
    },
    {
     "name": "stdout",
     "output_type": "stream",
     "text": [
      "Trajectory 17 has been saved to /project/dinner/zpengmei/geom2vec/results/chignolin_stride10 using torch.\n"
     ]
    },
    {
     "name": "stderr",
     "output_type": "stream",
     "text": [
      "100%|███████████████████████████████████████████████████████████████████████████████████████████████████████████████████| 10/10 [00:01<00:00,  5.62it/s]\n"
     ]
    },
    {
     "name": "stdout",
     "output_type": "stream",
     "text": [
      "Trajectory 18 has been saved to /project/dinner/zpengmei/geom2vec/results/chignolin_stride10 using torch.\n"
     ]
    },
    {
     "name": "stderr",
     "output_type": "stream",
     "text": [
      "100%|███████████████████████████████████████████████████████████████████████████████████████████████████████████████████| 10/10 [00:01<00:00,  5.76it/s]\n"
     ]
    },
    {
     "name": "stdout",
     "output_type": "stream",
     "text": [
      "Trajectory 19 has been saved to /project/dinner/zpengmei/geom2vec/results/chignolin_stride10 using torch.\n"
     ]
    },
    {
     "name": "stderr",
     "output_type": "stream",
     "text": [
      "100%|███████████████████████████████████████████████████████████████████████████████████████████████████████████████████| 10/10 [00:01<00:00,  5.54it/s]\n"
     ]
    },
    {
     "name": "stdout",
     "output_type": "stream",
     "text": [
      "Trajectory 20 has been saved to /project/dinner/zpengmei/geom2vec/results/chignolin_stride10 using torch.\n"
     ]
    },
    {
     "name": "stderr",
     "output_type": "stream",
     "text": [
      "100%|███████████████████████████████████████████████████████████████████████████████████████████████████████████████████| 10/10 [00:01<00:00,  5.63it/s]\n"
     ]
    },
    {
     "name": "stdout",
     "output_type": "stream",
     "text": [
      "Trajectory 21 has been saved to /project/dinner/zpengmei/geom2vec/results/chignolin_stride10 using torch.\n"
     ]
    },
    {
     "name": "stderr",
     "output_type": "stream",
     "text": [
      "100%|███████████████████████████████████████████████████████████████████████████████████████████████████████████████████| 10/10 [00:01<00:00,  5.62it/s]\n"
     ]
    },
    {
     "name": "stdout",
     "output_type": "stream",
     "text": [
      "Trajectory 22 has been saved to /project/dinner/zpengmei/geom2vec/results/chignolin_stride10 using torch.\n"
     ]
    },
    {
     "name": "stderr",
     "output_type": "stream",
     "text": [
      "100%|███████████████████████████████████████████████████████████████████████████████████████████████████████████████████| 10/10 [00:01<00:00,  5.63it/s]\n"
     ]
    },
    {
     "name": "stdout",
     "output_type": "stream",
     "text": [
      "Trajectory 23 has been saved to /project/dinner/zpengmei/geom2vec/results/chignolin_stride10 using torch.\n"
     ]
    },
    {
     "name": "stderr",
     "output_type": "stream",
     "text": [
      "100%|███████████████████████████████████████████████████████████████████████████████████████████████████████████████████| 10/10 [00:01<00:00,  5.49it/s]\n"
     ]
    },
    {
     "name": "stdout",
     "output_type": "stream",
     "text": [
      "Trajectory 24 has been saved to /project/dinner/zpengmei/geom2vec/results/chignolin_stride10 using torch.\n"
     ]
    },
    {
     "name": "stderr",
     "output_type": "stream",
     "text": [
      "100%|███████████████████████████████████████████████████████████████████████████████████████████████████████████████████| 10/10 [00:01<00:00,  5.49it/s]\n"
     ]
    },
    {
     "name": "stdout",
     "output_type": "stream",
     "text": [
      "Trajectory 25 has been saved to /project/dinner/zpengmei/geom2vec/results/chignolin_stride10 using torch.\n"
     ]
    },
    {
     "name": "stderr",
     "output_type": "stream",
     "text": [
      "100%|███████████████████████████████████████████████████████████████████████████████████████████████████████████████████| 10/10 [00:01<00:00,  5.77it/s]\n"
     ]
    },
    {
     "name": "stdout",
     "output_type": "stream",
     "text": [
      "Trajectory 26 has been saved to /project/dinner/zpengmei/geom2vec/results/chignolin_stride10 using torch.\n"
     ]
    },
    {
     "name": "stderr",
     "output_type": "stream",
     "text": [
      "100%|███████████████████████████████████████████████████████████████████████████████████████████████████████████████████| 10/10 [00:01<00:00,  5.71it/s]\n"
     ]
    },
    {
     "name": "stdout",
     "output_type": "stream",
     "text": [
      "Trajectory 27 has been saved to /project/dinner/zpengmei/geom2vec/results/chignolin_stride10 using torch.\n"
     ]
    },
    {
     "name": "stderr",
     "output_type": "stream",
     "text": [
      "100%|███████████████████████████████████████████████████████████████████████████████████████████████████████████████████| 10/10 [00:01<00:00,  5.48it/s]\n"
     ]
    },
    {
     "name": "stdout",
     "output_type": "stream",
     "text": [
      "Trajectory 28 has been saved to /project/dinner/zpengmei/geom2vec/results/chignolin_stride10 using torch.\n"
     ]
    },
    {
     "name": "stderr",
     "output_type": "stream",
     "text": [
      "100%|███████████████████████████████████████████████████████████████████████████████████████████████████████████████████| 10/10 [00:01<00:00,  5.48it/s]\n"
     ]
    },
    {
     "name": "stdout",
     "output_type": "stream",
     "text": [
      "Trajectory 29 has been saved to /project/dinner/zpengmei/geom2vec/results/chignolin_stride10 using torch.\n"
     ]
    },
    {
     "name": "stderr",
     "output_type": "stream",
     "text": [
      "100%|███████████████████████████████████████████████████████████████████████████████████████████████████████████████████| 10/10 [00:01<00:00,  5.95it/s]\n"
     ]
    },
    {
     "name": "stdout",
     "output_type": "stream",
     "text": [
      "Trajectory 30 has been saved to /project/dinner/zpengmei/geom2vec/results/chignolin_stride10 using torch.\n"
     ]
    },
    {
     "name": "stderr",
     "output_type": "stream",
     "text": [
      "100%|███████████████████████████████████████████████████████████████████████████████████████████████████████████████████| 10/10 [00:01<00:00,  5.49it/s]\n"
     ]
    },
    {
     "name": "stdout",
     "output_type": "stream",
     "text": [
      "Trajectory 31 has been saved to /project/dinner/zpengmei/geom2vec/results/chignolin_stride10 using torch.\n"
     ]
    },
    {
     "name": "stderr",
     "output_type": "stream",
     "text": [
      "100%|███████████████████████████████████████████████████████████████████████████████████████████████████████████████████| 10/10 [00:01<00:00,  5.47it/s]\n"
     ]
    },
    {
     "name": "stdout",
     "output_type": "stream",
     "text": [
      "Trajectory 32 has been saved to /project/dinner/zpengmei/geom2vec/results/chignolin_stride10 using torch.\n"
     ]
    },
    {
     "name": "stderr",
     "output_type": "stream",
     "text": [
      "100%|███████████████████████████████████████████████████████████████████████████████████████████████████████████████████| 10/10 [00:01<00:00,  5.46it/s]\n"
     ]
    },
    {
     "name": "stdout",
     "output_type": "stream",
     "text": [
      "Trajectory 33 has been saved to /project/dinner/zpengmei/geom2vec/results/chignolin_stride10 using torch.\n"
     ]
    },
    {
     "name": "stderr",
     "output_type": "stream",
     "text": [
      "100%|███████████████████████████████████████████████████████████████████████████████████████████████████████████████████| 10/10 [00:01<00:00,  5.50it/s]\n"
     ]
    },
    {
     "name": "stdout",
     "output_type": "stream",
     "text": [
      "Trajectory 34 has been saved to /project/dinner/zpengmei/geom2vec/results/chignolin_stride10 using torch.\n"
     ]
    },
    {
     "name": "stderr",
     "output_type": "stream",
     "text": [
      "100%|███████████████████████████████████████████████████████████████████████████████████████████████████████████████████| 10/10 [00:01<00:00,  5.84it/s]\n"
     ]
    },
    {
     "name": "stdout",
     "output_type": "stream",
     "text": [
      "Trajectory 35 has been saved to /project/dinner/zpengmei/geom2vec/results/chignolin_stride10 using torch.\n"
     ]
    },
    {
     "name": "stderr",
     "output_type": "stream",
     "text": [
      "100%|███████████████████████████████████████████████████████████████████████████████████████████████████████████████████| 10/10 [00:01<00:00,  5.51it/s]\n"
     ]
    },
    {
     "name": "stdout",
     "output_type": "stream",
     "text": [
      "Trajectory 36 has been saved to /project/dinner/zpengmei/geom2vec/results/chignolin_stride10 using torch.\n"
     ]
    },
    {
     "name": "stderr",
     "output_type": "stream",
     "text": [
      "100%|███████████████████████████████████████████████████████████████████████████████████████████████████████████████████| 10/10 [00:01<00:00,  5.47it/s]\n"
     ]
    },
    {
     "name": "stdout",
     "output_type": "stream",
     "text": [
      "Trajectory 37 has been saved to /project/dinner/zpengmei/geom2vec/results/chignolin_stride10 using torch.\n"
     ]
    },
    {
     "name": "stderr",
     "output_type": "stream",
     "text": [
      "100%|███████████████████████████████████████████████████████████████████████████████████████████████████████████████████| 10/10 [00:01<00:00,  5.62it/s]\n"
     ]
    },
    {
     "name": "stdout",
     "output_type": "stream",
     "text": [
      "Trajectory 38 has been saved to /project/dinner/zpengmei/geom2vec/results/chignolin_stride10 using torch.\n"
     ]
    },
    {
     "name": "stderr",
     "output_type": "stream",
     "text": [
      "100%|███████████████████████████████████████████████████████████████████████████████████████████████████████████████████| 10/10 [00:01<00:00,  5.47it/s]\n"
     ]
    },
    {
     "name": "stdout",
     "output_type": "stream",
     "text": [
      "Trajectory 39 has been saved to /project/dinner/zpengmei/geom2vec/results/chignolin_stride10 using torch.\n"
     ]
    },
    {
     "name": "stderr",
     "output_type": "stream",
     "text": [
      "100%|███████████████████████████████████████████████████████████████████████████████████████████████████████████████████| 10/10 [00:01<00:00,  5.84it/s]\n"
     ]
    },
    {
     "name": "stdout",
     "output_type": "stream",
     "text": [
      "Trajectory 40 has been saved to /project/dinner/zpengmei/geom2vec/results/chignolin_stride10 using torch.\n"
     ]
    },
    {
     "name": "stderr",
     "output_type": "stream",
     "text": [
      "100%|███████████████████████████████████████████████████████████████████████████████████████████████████████████████████| 10/10 [00:01<00:00,  5.72it/s]\n"
     ]
    },
    {
     "name": "stdout",
     "output_type": "stream",
     "text": [
      "Trajectory 41 has been saved to /project/dinner/zpengmei/geom2vec/results/chignolin_stride10 using torch.\n"
     ]
    },
    {
     "name": "stderr",
     "output_type": "stream",
     "text": [
      "100%|███████████████████████████████████████████████████████████████████████████████████████████████████████████████████| 10/10 [00:01<00:00,  5.46it/s]\n"
     ]
    },
    {
     "name": "stdout",
     "output_type": "stream",
     "text": [
      "Trajectory 42 has been saved to /project/dinner/zpengmei/geom2vec/results/chignolin_stride10 using torch.\n"
     ]
    },
    {
     "name": "stderr",
     "output_type": "stream",
     "text": [
      "100%|███████████████████████████████████████████████████████████████████████████████████████████████████████████████████| 10/10 [00:01<00:00,  5.47it/s]\n"
     ]
    },
    {
     "name": "stdout",
     "output_type": "stream",
     "text": [
      "Trajectory 43 has been saved to /project/dinner/zpengmei/geom2vec/results/chignolin_stride10 using torch.\n"
     ]
    },
    {
     "name": "stderr",
     "output_type": "stream",
     "text": [
      "100%|███████████████████████████████████████████████████████████████████████████████████████████████████████████████████| 10/10 [00:01<00:00,  5.64it/s]\n"
     ]
    },
    {
     "name": "stdout",
     "output_type": "stream",
     "text": [
      "Trajectory 44 has been saved to /project/dinner/zpengmei/geom2vec/results/chignolin_stride10 using torch.\n"
     ]
    },
    {
     "name": "stderr",
     "output_type": "stream",
     "text": [
      "100%|███████████████████████████████████████████████████████████████████████████████████████████████████████████████████| 10/10 [00:01<00:00,  5.53it/s]\n"
     ]
    },
    {
     "name": "stdout",
     "output_type": "stream",
     "text": [
      "Trajectory 45 has been saved to /project/dinner/zpengmei/geom2vec/results/chignolin_stride10 using torch.\n"
     ]
    },
    {
     "name": "stderr",
     "output_type": "stream",
     "text": [
      "100%|███████████████████████████████████████████████████████████████████████████████████████████████████████████████████| 10/10 [00:01<00:00,  5.49it/s]\n"
     ]
    },
    {
     "name": "stdout",
     "output_type": "stream",
     "text": [
      "Trajectory 46 has been saved to /project/dinner/zpengmei/geom2vec/results/chignolin_stride10 using torch.\n"
     ]
    },
    {
     "name": "stderr",
     "output_type": "stream",
     "text": [
      "100%|███████████████████████████████████████████████████████████████████████████████████████████████████████████████████| 10/10 [00:01<00:00,  5.47it/s]\n"
     ]
    },
    {
     "name": "stdout",
     "output_type": "stream",
     "text": [
      "Trajectory 47 has been saved to /project/dinner/zpengmei/geom2vec/results/chignolin_stride10 using torch.\n"
     ]
    },
    {
     "name": "stderr",
     "output_type": "stream",
     "text": [
      "100%|███████████████████████████████████████████████████████████████████████████████████████████████████████████████████| 10/10 [00:01<00:00,  5.48it/s]\n"
     ]
    },
    {
     "name": "stdout",
     "output_type": "stream",
     "text": [
      "Trajectory 48 has been saved to /project/dinner/zpengmei/geom2vec/results/chignolin_stride10 using torch.\n"
     ]
    },
    {
     "name": "stderr",
     "output_type": "stream",
     "text": [
      "100%|███████████████████████████████████████████████████████████████████████████████████████████████████████████████████| 10/10 [00:01<00:00,  5.64it/s]\n"
     ]
    },
    {
     "name": "stdout",
     "output_type": "stream",
     "text": [
      "Trajectory 49 has been saved to /project/dinner/zpengmei/geom2vec/results/chignolin_stride10 using torch.\n"
     ]
    },
    {
     "name": "stderr",
     "output_type": "stream",
     "text": [
      "100%|███████████████████████████████████████████████████████████████████████████████████████████████████████████████████| 10/10 [00:01<00:00,  5.56it/s]\n"
     ]
    },
    {
     "name": "stdout",
     "output_type": "stream",
     "text": [
      "Trajectory 50 has been saved to /project/dinner/zpengmei/geom2vec/results/chignolin_stride10 using torch.\n"
     ]
    },
    {
     "name": "stderr",
     "output_type": "stream",
     "text": [
      "100%|███████████████████████████████████████████████████████████████████████████████████████████████████████████████████| 10/10 [00:01<00:00,  5.68it/s]\n"
     ]
    },
    {
     "name": "stdout",
     "output_type": "stream",
     "text": [
      "Trajectory 51 has been saved to /project/dinner/zpengmei/geom2vec/results/chignolin_stride10 using torch.\n"
     ]
    },
    {
     "name": "stderr",
     "output_type": "stream",
     "text": [
      "100%|███████████████████████████████████████████████████████████████████████████████████████████████████████████████████| 10/10 [00:01<00:00,  5.63it/s]\n"
     ]
    },
    {
     "name": "stdout",
     "output_type": "stream",
     "text": [
      "Trajectory 52 has been saved to /project/dinner/zpengmei/geom2vec/results/chignolin_stride10 using torch.\n"
     ]
    },
    {
     "name": "stderr",
     "output_type": "stream",
     "text": [
      "100%|█████████████████████████████████████████████████████████████████████████████████████████████████████████████████████| 5/5 [00:00<00:00,  5.78it/s]"
     ]
    },
    {
     "name": "stdout",
     "output_type": "stream",
     "text": [
      "Trajectory 53 has been saved to /project/dinner/zpengmei/geom2vec/results/chignolin_stride10 using torch.\n"
     ]
    },
    {
     "name": "stderr",
     "output_type": "stream",
     "text": [
      "\n"
     ]
    }
   ],
   "source": [
    "# create a folder to store the results\n",
    "import os\n",
    "\n",
    "folder_path = '/project/dinner/zpengmei/geom2vec/results/chignolin_stride10'\n",
    "if not os.path.exists(folder_path):\n",
    "    os.makedirs(folder_path)\n",
    "\n",
    "# infer the trajectory\n",
    "infer_traj(\n",
    "    model = rep_model,\n",
    "    hidden_channels = 128,\n",
    "    batch_size = 100,\n",
    "    data = position_list,\n",
    "    atomic_numbers = atomic_numbers,\n",
    "    cg_mapping = segment_counts,\n",
    "    saving_path = folder_path,\n",
    "    device = 'cuda:0',\n",
    "    torch_or_numpy = 'torch',\n",
    ")"
   ]
  },
  {
   "cell_type": "code",
   "execution_count": 1,
   "metadata": {},
   "outputs": [
    {
     "name": "stderr",
     "output_type": "stream",
     "text": [
      "100%|███████████████████████████████████████████████████████████████████████████████████████████████████████████████████| 54/54 [00:03<00:00, 14.84it/s]\n"
     ]
    }
   ],
   "source": [
    "# Here is how you load and create a dataset\n",
    "from geom2vec.data import Preprocessing\n",
    "\n",
    "folder_path = '/project/dinner/zpengmei/geom2vec/results/chignolin_stride10'\n",
    "preprocess = Preprocessing(torch_or_numpy='torch')\n",
    "raw_dataset = preprocess.load_dataset(data_path=folder_path,mmap_mode='r')"
   ]
  },
  {
   "cell_type": "code",
   "execution_count": 2,
   "metadata": {},
   "outputs": [
    {
     "data": {
      "text/plain": [
       "torch.Size([1000, 10, 4, 128])"
      ]
     },
     "execution_count": 2,
     "metadata": {},
     "output_type": "execute_result"
    }
   ],
   "source": [
    "raw_dataset[0].shape"
   ]
  },
  {
   "cell_type": "code",
   "execution_count": 3,
   "metadata": {},
   "outputs": [
    {
     "name": "stdout",
     "output_type": "stream",
     "text": [
      "torch.Size([10, 4, 128])\n",
      "torch.Size([10, 4, 128])\n"
     ]
    }
   ],
   "source": [
    "# And you can create a time-lagged dataset like this\n",
    "time_lagged_dataset = preprocess.create_dataset(raw_dataset, lag_time=10)\n",
    "print(time_lagged_dataset[0][0].shape)\n",
    "print(time_lagged_dataset[0][1].shape)"
   ]
  }
 ],
 "metadata": {
  "kernelspec": {
   "display_name": "torch",
   "language": "python",
   "name": "torch"
  },
  "language_info": {
   "codemirror_mode": {
    "name": "ipython",
    "version": 3
   },
   "file_extension": ".py",
   "mimetype": "text/x-python",
   "name": "python",
   "nbconvert_exporter": "python",
   "pygments_lexer": "ipython3",
   "version": "3.11.8"
  }
 },
 "nbformat": 4,
 "nbformat_minor": 2
}
