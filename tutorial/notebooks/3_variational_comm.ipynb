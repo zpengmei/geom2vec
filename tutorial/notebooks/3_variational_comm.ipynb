{
 "cells": [
  {
   "cell_type": "code",
   "execution_count": 1,
   "metadata": {},
   "outputs": [
    {
     "name": "stderr",
     "output_type": "stream",
     "text": [
      "/project/dinner/zpengmei/conda_envs/torch/lib/python3.11/site-packages/transformers/utils/generic.py:441: UserWarning: torch.utils._pytree._register_pytree_node is deprecated. Please use torch.utils._pytree.register_pytree_node instead.\n",
      "  _torch_pytree._register_pytree_node(\n",
      "100%|██████████████████████████████████████████████████████████████████████████████████████████████████████████████████| 54/54 [00:00<00:00, 486.33it/s]\n"
     ]
    }
   ],
   "source": [
    "from geom2vec.data import Preprocessing\n",
    "import torch\n",
    "\n",
    "folder_path = '/project/dinner/zpengmei/geom2vec/results/chignolin_stride10'\n",
    "preprocess = Preprocessing(torch_or_numpy='torch')\n",
    "raw_dataset = preprocess.load_dataset(data_path=folder_path,mmap_mode='r')\n",
    "# we concatenate the data of the same trajectory\n",
    "dataset = torch.cat(raw_dataset).sum(1)\n",
    "del raw_dataset"
   ]
  },
  {
   "cell_type": "code",
   "execution_count": 2,
   "metadata": {},
   "outputs": [],
   "source": [
    "# read the data\n",
    "import scipy\n",
    "import numpy as np\n",
    "\n",
    "data = np.load(\"/project/dinner/zpengmei/geom2vec/tutorial/data/chignolin/chignolin.npz\")\n",
    "ca_rmsds = data['ca_rmsds']\n",
    "qtots = data['qtots']\n",
    "end_end_dists = data['end_end_dists']\n",
    "ca_dists = data['ca_dists']\n",
    "chi1s = data['chi1s']\n",
    "trp_psi = data['trp_psi']\n",
    "tics = data['tics']\n",
    "\n",
    "assert len(ca_rmsds) == len(qtots) == len(end_end_dists) == len(ca_dists) == len(chi1s) == len(trp_psi) == len(tics) == len(dataset)\n"
   ]
  },
  {
   "cell_type": "code",
   "execution_count": 3,
   "metadata": {},
   "outputs": [
    {
     "name": "stdout",
     "output_type": "stream",
     "text": [
      "[3. 3. 3. 3. 3. 3. 3. 3. 3. 3. 3. 3. 3. 3. 3. 3. 3. 3. 3. 3.]\n",
      "[ 24  25  33  34  55  56  64  65  67  68  87 120 138 145 160 198 206 207\n",
      " 211 222]\n",
      "[-3.  3. -3.  3. -3.  3. -3.  3. -3.  3. -3.  2. -2.  2. -2.  2. -2.  2.\n",
      " -2.  2.]\n",
      "33\n",
      "34\n",
      "torch.Size([53475, 1])\n"
     ]
    }
   ],
   "source": [
    "# define the state\n",
    "dtype = torch.float32\n",
    "\n",
    "ca_rmsd_arr = ca_rmsds * 10\n",
    "smoothed_qtots = scipy.signal.convolve(qtots, np.ones(50) / 50, mode=\"same\")\n",
    "end_end_arr = end_end_dists * 10\n",
    "folded = ((((smoothed_qtots - 0.5)**2 / 0.1**2) + ((ca_rmsd_arr - 1)**2)) < 1) & (chi1s[:, 5] > 0) & (trp_psi > 0)\n",
    "unfolded = (smoothed_qtots < 0.1) & (ca_rmsd_arr > 3) & (end_end_arr > 10) & (tics[:, 1] < -1)\n",
    "\n",
    "label_traj = np.zeros(len(folded))\n",
    "label_traj[folded] = 2\n",
    "label_traj[unfolded] = 3\n",
    "transitions = np.nonzero(np.diff(label_traj))[0]\n",
    "print(label_traj[:20])\n",
    "print(transitions[:20])\n",
    "print(np.diff(label_traj)[transitions][:20])\n",
    "diff_transitions = np.diff(label_traj)[transitions]\n",
    "# folded, D, unfolded gives -2, 3, sum is 1\n",
    "print(np.count_nonzero((diff_transitions[:-1] == -2) & (diff_transitions[1:] == 3)))\n",
    "# unfolded, D, folded gives -3, 2, sum is -1\n",
    "print(np.count_nonzero((diff_transitions[1:] + diff_transitions[:-1]) == -1))\n",
    "\n",
    "guess_f = torch.tensor(folded, dtype=dtype).unsqueeze(-1)\n",
    "in_d = torch.tensor(~(folded | unfolded), dtype=dtype).unsqueeze(-1)\n",
    "in_a = torch.tensor(unfolded, dtype=bool).unsqueeze(-1)\n",
    "in_b = torch.tensor(folded, dtype=bool).unsqueeze(-1)\n",
    "print(in_d.shape)"
   ]
  },
  {
   "cell_type": "code",
   "execution_count": 4,
   "metadata": {},
   "outputs": [
    {
     "name": "stderr",
     "output_type": "stream",
     "text": [
      "/scratch/local/jobs/20654661/ipykernel_2803204/1063902503.py:5: RuntimeWarning: divide by zero encountered in log\n",
      "  pc = ax.pcolormesh(xe, ye, (-np.log(num) - np.nanmin(-np.log(num))).T, cmap='viridis', vmin=0)\n"
     ]
    },
    {
     "data": {
      "text/plain": [
       "<matplotlib.colorbar.Colorbar at 0x7efc9649fd50>"
      ]
     },
     "execution_count": 4,
     "metadata": {},
     "output_type": "execute_result"
    },
    {
     "data": {
      "image/png": "[encoded data removed]",
      "text/plain": [
       "<Figure size 200x225 with 2 Axes>"
      ]
     },
     "metadata": {},
     "output_type": "display_data"
    }
   ],
   "source": [
    "import matplotlib.pyplot as plt\n",
    "\n",
    "fig, ax = plt.subplots(1, 1, figsize=(2, 2.25))\n",
    "num, xe, ye = np.histogram2d(smoothed_qtots, end_end_dists * 10, bins=100)\n",
    "pc = ax.pcolormesh(xe, ye, (-np.log(num) - np.nanmin(-np.log(num))).T, cmap='viridis', vmin=0)\n",
    "ax.plot(smoothed_qtots[unfolded][::10], end_end_dists[unfolded][::10] * 10, '.', color='orange', alpha=0.1)\n",
    "ax.plot(smoothed_qtots[folded][::100], end_end_dists[folded][::100] * 10, '.', color='red', alpha=0.1)\n",
    "ax.set_xlabel(\"$Q$\")\n",
    "ax.set_ylabel(r\"$d\\ (\\text{\\AA})$\")\n",
    "fig.colorbar(pc, ax=ax, label=\"PMF\", location='top')"
   ]
  },
  {
   "cell_type": "code",
   "execution_count": 5,
   "metadata": {},
   "outputs": [
    {
     "data": {
      "text/plain": [
       "torch.Size([4, 128])"
      ]
     },
     "execution_count": 5,
     "metadata": {},
     "output_type": "execute_result"
    }
   ],
   "source": [
    "dataset[0].shape"
   ]
  },
  {
   "cell_type": "code",
   "execution_count": 6,
   "metadata": {},
   "outputs": [],
   "source": [
    "# create the dataset with B.C.\n",
    "from torch.utils.data import random_split\n",
    "from torch.utils.data.dataloader import DataLoader\n",
    "\n",
    "bc_dataset = preprocess.create_boundary_dataset(\n",
    "    dataset, in_a, in_b\n",
    ")\n",
    "\n",
    "train_data, val_data = random_split(bc_dataset, [len(bc_dataset) - 5000, 5000])\n",
    "train_loader = DataLoader(train_data, batch_size=1000, shuffle=True)\n",
    "val_loader = DataLoader(val_data, batch_size=1000, shuffle=False)"
   ]
  },
  {
   "cell_type": "code",
   "execution_count": 7,
   "metadata": {},
   "outputs": [
    {
     "name": "stdout",
     "output_type": "stream",
     "text": [
      "torch.Size([1000, 4, 128]) torch.Size([1000, 1]) torch.Size([1000, 1])\n"
     ]
    }
   ],
   "source": [
    "for data, ina, inb in train_loader:\n",
    "    print(data.shape, ina.shape, inb.shape)\n",
    "    break"
   ]
  },
  {
   "cell_type": "code",
   "execution_count": 8,
   "metadata": {},
   "outputs": [
    {
     "data": {
      "text/plain": [
       "torch.Size([4, 128])"
      ]
     },
     "execution_count": 8,
     "metadata": {},
     "output_type": "execute_result"
    }
   ],
   "source": [
    "bc_dataset[0][0].shape"
   ]
  },
  {
   "cell_type": "code",
   "execution_count": 9,
   "metadata": {},
   "outputs": [
    {
     "name": "stderr",
     "output_type": "stream",
     "text": [
      "/project/dinner/zpengmei/conda_envs/torch/lib/python3.11/site-packages/transformers/utils/generic.py:441: UserWarning: torch.utils._pytree._register_pytree_node is deprecated. Please use torch.utils._pytree.register_pytree_node instead.\n",
      "  _torch_pytree._register_pytree_node(\n",
      "                                                                                                                                                                                                                                                 \r"
     ]
    },
    {
     "data": {
      "text/plain": [
       "VarComm(\n",
       "  (_lobe): lobe(\n",
       "    (dropout): Dropout(p=0.1, inplace=False)\n",
       "    (input_projection): EquivariantScalar(\n",
       "      (output_network): ModuleList(\n",
       "        (0): GatedEquivariantBlock(\n",
       "          (vec1_proj): Linear(in_features=128, out_features=128, bias=False)\n",
       "          (vec2_proj): Linear(in_features=128, out_features=128, bias=False)\n",
       "          (update_net): Sequential(\n",
       "            (0): Linear(in_features=256, out_features=128, bias=True)\n",
       "            (1): SiLU()\n",
       "            (2): Linear(in_features=128, out_features=256, bias=True)\n",
       "          )\n",
       "          (act): SiLU()\n",
       "        )\n",
       "        (1): GatedEquivariantBlock(\n",
       "          (vec1_proj): Linear(in_features=128, out_features=128, bias=False)\n",
       "          (vec2_proj): Linear(in_features=128, out_features=128, bias=False)\n",
       "          (update_net): Sequential(\n",
       "            (0): Linear(in_features=256, out_features=128, bias=True)\n",
       "            (1): SiLU()\n",
       "            (2): Linear(in_features=128, out_features=256, bias=True)\n",
       "          )\n",
       "        )\n",
       "      )\n",
       "    )\n",
       "    (output_projection): MLP(\n",
       "      (layers): ModuleList(\n",
       "        (0): Linear(in_features=128, out_features=128, bias=True)\n",
       "        (1): SiLU()\n",
       "        (2): Linear(in_features=128, out_features=128, bias=True)\n",
       "        (3): SiLU()\n",
       "        (4): Linear(in_features=128, out_features=1, bias=True)\n",
       "      )\n",
       "      (out_activation): Sigmoid()\n",
       "    )\n",
       "  )\n",
       ")"
      ]
     },
     "execution_count": 9,
     "metadata": {},
     "output_type": "execute_result"
    }
   ],
   "source": [
    "from geom2vec.downstream_models import VarComm\n",
    "from geom2vec import Lobe\n",
    "\n",
    "# define the model\n",
    "\n",
    "device = torch.device('cuda' if torch.cuda.is_available() else 'cpu')\n",
    "\n",
    "net = Lobe(\n",
    "    hidden_channels=128,\n",
    "    intermediate_channels=128,\n",
    "    output_channels=1,\n",
    "    num_layers=3,\n",
    "    batch_norm=False,\n",
    "    vector_feature=True,\n",
    "    mlp_dropout=0.1,\n",
    "    mlp_out_activation=torch.nn.Sigmoid(),\n",
    "    device=device,\n",
    ")\n",
    "\n",
    "model = VarComm(\n",
    "    lobe = net,\n",
    "    optimizer = 'adam',\n",
    "    learning_rate = 1e-4,\n",
    "    epsilon = 1e-1,\n",
    "    k=10,\n",
    ")\n",
    "\n",
    "model.fit(train_loader=train_loader, n_epochs=5,val_loader=val_loader)\n"
   ]
  },
  {
   "cell_type": "code",
   "execution_count": 10,
   "metadata": {},
   "outputs": [
    {
     "data": {
      "image/png": "[encoded data removed]",
      "text/plain": [
       "<Figure size 640x480 with 1 Axes>"
      ]
     },
     "metadata": {},
     "output_type": "display_data"
    }
   ],
   "source": [
    "train_score = model.training_scores\n",
    "val_score = model.validation_scores\n",
    "\n",
    "import matplotlib.pyplot as plt\n",
    "\n",
    "plt.loglog(train_score, label='train')\n",
    "plt.loglog(val_score, label='val')\n",
    "plt.xlabel('step')\n",
    "plt.ylabel('Variational Committor Loss')\n",
    "plt.legend()\n",
    "plt.show()"
   ]
  },
  {
   "cell_type": "code",
   "execution_count": 11,
   "metadata": {},
   "outputs": [
    {
     "name": "stderr",
     "output_type": "stream",
     "text": [
      "100%|███████████████████████████████████████████████████████████████████████████████████████████████████████████████████████████████████████████████████████████████████████████████████████████████████████████| 54/54 [00:00<00:00, 487.98it/s]\n"
     ]
    }
   ],
   "source": [
    "comm = model.transform(bc_dataset,batch_size=1000)"
   ]
  }
 ],
 "metadata": {
  "kernelspec": {
   "display_name": "torch",
   "language": "python",
   "name": "torch"
  },
  "language_info": {
   "codemirror_mode": {
    "name": "ipython",
    "version": 3
   },
   "file_extension": ".py",
   "mimetype": "text/x-python",
   "name": "python",
   "nbconvert_exporter": "python",
   "pygments_lexer": "ipython3",
   "version": "3.11.8"
  }
 },
 "nbformat": 4,
 "nbformat_minor": 2
}
