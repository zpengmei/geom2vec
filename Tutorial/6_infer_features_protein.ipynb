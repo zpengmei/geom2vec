{
 "cells": [
  {
   "cell_type": "code",
   "execution_count": 1,
   "metadata": {},
   "outputs": [
    {
     "name": "stdout",
     "output_type": "stream",
     "text": [
      "Requirement already satisfied: MDAnalysis in ./conda_envs/torch/lib/python3.11/site-packages (2.7.0)\n",
      "Requirement already satisfied: numpy<2.0,>=1.22.3 in ./conda_envs/torch/lib/python3.11/site-packages (from MDAnalysis) (1.26.4)\n",
      "Requirement already satisfied: GridDataFormats>=0.4.0 in ./conda_envs/torch/lib/python3.11/site-packages (from MDAnalysis) (1.0.2)\n",
      "Requirement already satisfied: mmtf-python>=1.0.0 in ./conda_envs/torch/lib/python3.11/site-packages (from MDAnalysis) (1.1.3)\n",
      "Requirement already satisfied: joblib>=0.12 in ./conda_envs/torch/lib/python3.11/site-packages (from MDAnalysis) (1.3.2)\n",
      "Requirement already satisfied: scipy>=1.5.0 in ./conda_envs/torch/lib/python3.11/site-packages (from MDAnalysis) (1.11.4)\n",
      "Requirement already satisfied: matplotlib>=1.5.1 in ./conda_envs/torch/lib/python3.11/site-packages (from MDAnalysis) (3.8.0)\n",
      "Requirement already satisfied: tqdm>=4.43.0 in ./conda_envs/torch/lib/python3.11/site-packages (from MDAnalysis) (4.66.2)\n",
      "Requirement already satisfied: threadpoolctl in ./conda_envs/torch/lib/python3.11/site-packages (from MDAnalysis) (3.3.0)\n",
      "Requirement already satisfied: packaging in ./conda_envs/torch/lib/python3.11/site-packages (from MDAnalysis) (23.1)\n",
      "Requirement already satisfied: fasteners in ./conda_envs/torch/lib/python3.11/site-packages (from MDAnalysis) (0.19)\n",
      "Requirement already satisfied: mda-xdrlib in ./conda_envs/torch/lib/python3.11/site-packages (from MDAnalysis) (0.2.0)\n",
      "Requirement already satisfied: mrcfile in ./conda_envs/torch/lib/python3.11/site-packages (from GridDataFormats>=0.4.0->MDAnalysis) (1.5.0)\n",
      "Requirement already satisfied: contourpy>=1.0.1 in ./conda_envs/torch/lib/python3.11/site-packages (from matplotlib>=1.5.1->MDAnalysis) (1.2.1)\n",
      "Requirement already satisfied: cycler>=0.10 in ./conda_envs/torch/lib/python3.11/site-packages (from matplotlib>=1.5.1->MDAnalysis) (0.12.1)\n",
      "Requirement already satisfied: fonttools>=4.22.0 in ./conda_envs/torch/lib/python3.11/site-packages (from matplotlib>=1.5.1->MDAnalysis) (4.44.0)\n",
      "Requirement already satisfied: kiwisolver>=1.0.1 in ./conda_envs/torch/lib/python3.11/site-packages (from matplotlib>=1.5.1->MDAnalysis) (1.4.5)\n",
      "Requirement already satisfied: pillow>=6.2.0 in ./conda_envs/torch/lib/python3.11/site-packages (from matplotlib>=1.5.1->MDAnalysis) (10.2.0)\n",
      "Requirement already satisfied: pyparsing>=2.3.1 in ./conda_envs/torch/lib/python3.11/site-packages (from matplotlib>=1.5.1->MDAnalysis) (3.0.9)\n",
      "Requirement already satisfied: python-dateutil>=2.7 in ./conda_envs/torch/lib/python3.11/site-packages (from matplotlib>=1.5.1->MDAnalysis) (2.8.2)\n",
      "Requirement already satisfied: msgpack>=1.0.0 in ./conda_envs/torch/lib/python3.11/site-packages (from mmtf-python>=1.0.0->MDAnalysis) (1.0.7)\n",
      "Requirement already satisfied: six>=1.5 in ./conda_envs/torch/lib/python3.11/site-packages (from python-dateutil>=2.7->matplotlib>=1.5.1->MDAnalysis) (1.16.0)\n"
     ]
    }
   ],
   "source": [
    "# okay, just take a breath and start with something easy and canonical\n",
    "!pip install MDAnalysis\n"
   ]
  },
  {
   "cell_type": "code",
   "execution_count": 2,
   "metadata": {},
   "outputs": [
    {
     "data": {
      "text/plain": [
       "<mdtraj.Trajectory with 250000 frames, 22 atoms, 3 residues, and unitcells at 0x7f2f426a1510>"
      ]
     },
     "execution_count": 2,
     "metadata": {},
     "output_type": "execute_result"
    }
   ],
   "source": [
    "import mdtraj as md\n",
    "import numpy as np\n",
    "\n",
    "# load the trajectory\n",
    "top_file = '/project/dinner/zpengmei/Geom2Vec/Tutorial/adp/alanine-dipeptide-nowater.pdb'\n",
    "traj_file = '/project/dinner/zpengmei/Geom2Vec/Tutorial/adp/alanine-dipeptide-0-250ns-nowater.xtc'\n",
    "traj = md.load(traj_file, top=top_file)\n",
    "\n",
    "traj"
   ]
  },
  {
   "cell_type": "code",
   "execution_count": 5,
   "metadata": {},
   "outputs": [
    {
     "name": "stdout",
     "output_type": "stream",
     "text": [
      "shape after excluding hydrogens: (250000, 10, 3)\n"
     ]
    }
   ],
   "source": [
    "# convert to angstroms\n",
    "xyz = traj.xyz * 10\n",
    "atomic_numbers = [atom.element.atomic_number for atom in traj.topology.atoms]\n",
    "atomic_numbers = np.array(atomic_numbers)\n",
    "\n",
    "# exclude hydrogens\n",
    "mask = atomic_numbers != 1\n",
    "xyz = xyz[:, mask]\n",
    "atomic_numbers = atomic_numbers[mask]\n",
    "\n",
    "print('shape after excluding hydrogens:', xyz.shape)"
   ]
  },
  {
   "cell_type": "code",
   "execution_count": 6,
   "metadata": {},
   "outputs": [
    {
     "name": "stderr",
     "output_type": "stream",
     "text": [
      "/project/dinner/zpengmei/conda_envs/torch/lib/python3.11/site-packages/torch_geometric/typing.py:54: UserWarning: An issue occurred while importing 'pyg-lib'. Disabling its usage. Stacktrace: /lib64/libm.so.6: version `GLIBC_2.29' not found (required by /project/dinner/zpengmei/conda_envs/torch/lib/python3.11/site-packages/libpyg.so)\n",
      "  warnings.warn(f\"An issue occurred while importing 'pyg-lib'. \"\n",
      "/project/dinner/zpengmei/conda_envs/torch/lib/python3.11/site-packages/torch_geometric/typing.py:110: UserWarning: An issue occurred while importing 'torch-sparse'. Disabling its usage. Stacktrace: /lib64/libm.so.6: version `GLIBC_2.29' not found (required by /project/dinner/zpengmei/conda_envs/torch/lib/python3.11/site-packages/libpyg.so)\n",
      "  warnings.warn(f\"An issue occurred while importing 'torch-sparse'. \"\n",
      "/project/dinner/zpengmei/conda_envs/torch/lib/python3.11/site-packages/transformers/utils/generic.py:441: UserWarning: torch.utils._pytree._register_pytree_node is deprecated. Please use torch.utils._pytree.register_pytree_node instead.\n",
      "  _torch_pytree._register_pytree_node(\n",
      "/project/dinner/zpengmei/conda_envs/torch/lib/python3.11/site-packages/torch_geometric/nn/conv/message_passing.py:966: UserWarning: 'EquivariantMultiHeadAttention.jittable' is deprecated and a no-op. Please remove its usage.\n",
      "  warnings.warn(f\"'{self.__class__.__name__}.jittable' is deprecated \"\n"
     ]
    },
    {
     "data": {
      "text/plain": [
       "TorchMD_Net(\n",
       "  (representation_model): TorchMD_ET(hidden_channels=256, num_layers=9, num_rbf=64, rbf_type=expnorm, trainable_rbf=False, activation=silu, attn_activation=silu, neighbor_embedding=None, num_heads=8, distance_influence=both, cutoff_lower=0.0, cutoff_upper=7.5)\n",
       "  (output_model_noise): EquivariantScalar(\n",
       "    (output_network): ModuleList(\n",
       "      (0): GatedEquivariantBlock(\n",
       "        (vec1_proj): Linear(in_features=256, out_features=256, bias=False)\n",
       "        (vec2_proj): Linear(in_features=256, out_features=128, bias=False)\n",
       "        (update_net): Sequential(\n",
       "          (0): Linear(in_features=512, out_features=256, bias=True)\n",
       "          (1): SiLU()\n",
       "          (2): Linear(in_features=256, out_features=256, bias=True)\n",
       "        )\n",
       "        (act): SiLU()\n",
       "      )\n",
       "      (1): GatedEquivariantBlock(\n",
       "        (vec1_proj): Linear(in_features=128, out_features=128, bias=False)\n",
       "        (vec2_proj): Linear(in_features=128, out_features=1, bias=False)\n",
       "        (update_net): Sequential(\n",
       "          (0): Linear(in_features=256, out_features=128, bias=True)\n",
       "          (1): SiLU()\n",
       "          (2): Linear(in_features=128, out_features=2, bias=True)\n",
       "        )\n",
       "      )\n",
       "    )\n",
       "  )\n",
       "  (pos_normalizer): AccumulatedNormalization()\n",
       ")"
      ]
     },
     "execution_count": 6,
     "metadata": {},
     "output_type": "execute_result"
    }
   ],
   "source": [
    "# load the pretrained model to featurize the trajectory\n",
    "\n",
    "from Geom2Vec.geom2vec.models.torchmd.main_model import create_model, get_args\n",
    "import torch\n",
    "\n",
    "hidden_channels = 256\n",
    "layers = 9\n",
    "nhead = 8\n",
    "\n",
    "device = torch.device('cuda' if torch.cuda.is_available() else 'cpu')\n",
    "\n",
    "args = get_args(hidden_channels=hidden_channels, num_layers=layers, num_rbf=64, num_heads=nhead, cutoff=7.5)\n",
    "model = create_model(args=args)\n",
    "checkpoint = torch.load('/project/dinner/zpengmei/Geom2Vec/geom2vec/checkpoints/et_l9_r64_c75_256_denali.pth')\n",
    "model.load_state_dict(checkpoint)\n",
    "model.to(device)"
   ]
  },
  {
   "cell_type": "code",
   "execution_count": 8,
   "metadata": {},
   "outputs": [],
   "source": [
    "from tqdm import tqdm\n",
    "from torch_scatter import scatter\n",
    "\n",
    "# inferencing the trajectory to get the features\n",
    "\n",
    "def get_features(xyz_list, model, batch_size=100, device='cuda'):\n",
    "    features = []\n",
    "    for traj_xyz in xyz_list:\n",
    "        traj_xyz = torch.tensor(traj_xyz, device=device).float()\n",
    "        with torch.no_grad():\n",
    "            model.eval()\n",
    "            num_atoms = len(atomic_numbers)\n",
    "            z = torch.from_numpy(atomic_numbers).to(device)\n",
    "            out_rep_list = []\n",
    "            # Split the trajectory into batches\n",
    "            for pos_batch in tqdm(torch.split(traj_xyz, batch_size, dim=0)):\n",
    "                n_samples, n_atoms, _ = pos_batch.shape\n",
    "                z_batch = z.expand(n_samples, -1).reshape(-1).to(device)\n",
    "                batch_batch = (\n",
    "                    torch.arange(n_samples).unsqueeze(1).expand(-1, n_atoms).reshape(-1)\n",
    "                ).to(device)\n",
    "                x_rep, _, _ = model(z=z_batch, pos=pos_batch.reshape(-1,3).contiguous().to(device), batch=batch_batch)\n",
    "                # Move the data to CPU and append to the output list\n",
    "                x_rep = x_rep.reshape(-1, num_atoms, hidden_channels)\n",
    "                out_rep = x_rep.sum(1)\n",
    "                out_rep_list.append(out_rep.detach().cpu().numpy())\n",
    "                torch.cuda.empty_cache()\n",
    "\n",
    "            features.append(np.concatenate(out_rep_list, axis=0))\n",
    "\n",
    "    return features"
   ]
  },
  {
   "cell_type": "code",
   "execution_count": 9,
   "metadata": {},
   "outputs": [
    {
     "name": "stderr",
     "output_type": "stream",
     "text": [
      "100%|██████████████████████████████████████████████████████████████████████████████████████████████████████| 2500/2500 [00:46<00:00, 53.22it/s]\n"
     ]
    }
   ],
   "source": [
    "xyz_list = [xyz]\n",
    "features = get_features(xyz_list, model, batch_size=100, device=device)\n"
   ]
  },
  {
   "cell_type": "code",
   "execution_count": 12,
   "metadata": {},
   "outputs": [
    {
     "data": {
      "text/plain": [
       "(250000, 256)"
      ]
     },
     "execution_count": 12,
     "metadata": {},
     "output_type": "execute_result"
    }
   ],
   "source": [
    "features[0].shape"
   ]
  },
  {
   "cell_type": "code",
   "execution_count": 13,
   "metadata": {},
   "outputs": [],
   "source": [
    "# save the features\n",
    "\n",
    "np.savez('/project/dinner/zpengmei/Geom2Vec/Tutorial/adp/adp_gnn_feat', features = features[0])"
   ]
  }
 ],
 "metadata": {
  "kernelspec": {
   "display_name": "Python 3 (ipykernel)",
   "language": "python",
   "name": "python3"
  },
  "language_info": {
   "codemirror_mode": {
    "name": "ipython",
    "version": 3
   },
   "file_extension": ".py",
   "mimetype": "text/x-python",
   "name": "python",
   "nbconvert_exporter": "python",
   "pygments_lexer": "ipython3",
   "version": "3.11.8"
  }
 },
 "nbformat": 4,
 "nbformat_minor": 2
}
