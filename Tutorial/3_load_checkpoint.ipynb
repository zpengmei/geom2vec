{
 "cells": [
  {
   "cell_type": "code",
   "execution_count": 3,
   "metadata": {},
   "outputs": [],
   "source": [
    "# alright, we just tried a minimal example of a simple neural network\n",
    "# It's not a good idea to train your neural network from scratch, it's better to use a pre-trained model\n",
    "\n",
    "# We will use the TorchMD-ET model, and I really recommend for its simplicity and efficiency compared to group-equivariant models\n",
    "from Geom2Vec.geom2vec.models.torchmd.main_model import create_model, get_args\n",
    "\n",
    "import torch\n",
    "import torch.nn as nn"
   ]
  },
  {
   "cell_type": "code",
   "execution_count": 5,
   "metadata": {},
   "outputs": [
    {
     "name": "stderr",
     "output_type": "stream",
     "text": [
      "/project/dinner/zpengmei/conda_envs/torch/lib/python3.11/site-packages/torch_geometric/data/in_memory_dataset.py:301: UserWarning: It is not recommended to directly access the internal storage format `data` of an 'InMemoryDataset'. The given 'InMemoryDataset' only references a subset of examples of the full dataset, but 'data' will contain information of the full dataset. If you are absolutely certain what you are doing, access the internal storage via `InMemoryDataset._data` instead to suppress this warning. Alternatively, you can access stacked individual attributes of every graph via `dataset.{attr_name}`.\n",
      "  warnings.warn(msg)\n",
      "/project/dinner/zpengmei/conda_envs/torch/lib/python3.11/site-packages/torch_geometric/deprecation.py:26: UserWarning: 'data.DataLoader' is deprecated, use 'loader.DataLoader' instead\n",
      "  warnings.warn(out)\n"
     ]
    }
   ],
   "source": [
    "from torch_geometric.data import Data, DataLoader\n",
    "from torch_geometric.datasets import QM9 # We will use the QM9 dataset for this example\n",
    "\n",
    "# Let's start by loading the dataset\n",
    "\n",
    "path = '/project/dinner/zpengmei/Geom2Vec/Tutorial/data_sets/QM9'\n",
    "\n",
    "# QM9 has many labels, let's just pick the first one for now, we can do this with Transform object in PyG\n",
    "\n",
    "class QM9Transform:\n",
    "    def __call__(self, data):\n",
    "        # Select target.\n",
    "        data.y = data.y[:, 0]\n",
    "        return data\n",
    "\n",
    "# Load the dataset, you can't do this on the compute node, you need to do this on the login node for internet access\n",
    "\n",
    "dataset = QM9(path, transform=QM9Transform()).shuffle()\n",
    "\n",
    "# Normalize targets to mean = 0 and std = 1.\n",
    "mean = dataset.data.y.mean(dim=0, keepdim=True)\n",
    "std = dataset.data.y.std(dim=0, keepdim=True)\n",
    "dataset.data.y = (dataset.data.y - mean) / std\n",
    "mean, std = mean[:, 0].item(), std[:, 0].item()\n",
    "\n",
    "# split the dataset into training, validation and test sets\n",
    "\n",
    "train_dataset = dataset[:110000]\n",
    "val_dataset = dataset[110000:120000]\n",
    "test_dataset = dataset[120000:]\n",
    "\n",
    "# load your data into the DataLoader\n",
    "\n",
    "test_loader = DataLoader(test_dataset, batch_size=128, shuffle=False)\n",
    "val_loader = DataLoader(val_dataset, batch_size=128, shuffle=False)\n",
    "train_loader = DataLoader(train_dataset, batch_size=128, shuffle=True)"
   ]
  },
  {
   "cell_type": "code",
   "execution_count": 8,
   "metadata": {},
   "outputs": [],
   "source": [
    "from torch_scatter import scatter\n",
    "\n",
    "class Net(nn.Module):\n",
    "\n",
    "    def __init__(self, hidden_dim, output_dim):\n",
    "        super(Net, self).__init__()\n",
    "        self.hidden_dim = hidden_dim\n",
    "        self.output_dim = output_dim\n",
    "\n",
    "        pt_gnn_args = get_args(\n",
    "            hidden_channels=hidden_dim, \n",
    "            num_layers=9,\n",
    "            num_rbf=64,\n",
    "            num_heads=8, \n",
    "            cutoff=7.5 # cutoff radius\n",
    "        )\n",
    "        self.representation_model = create_model(pt_gnn_args)\n",
    "\n",
    "        # a simple MLP for regression\n",
    "        self.task_head = nn.Sequential(\n",
    "            nn.Linear(hidden_dim, hidden_dim),\n",
    "            nn.ReLU(),\n",
    "            nn.Linear(hidden_dim, output_dim)\n",
    "        )\n",
    "    \n",
    "    def forward(self, z, pos, batch):\n",
    "\n",
    "        x_rep,_ , _ = self.representation_model(z, pos, batch)\n",
    "        x_rep = scatter(x_rep, batch, dim=0, reduce='add')\n",
    "        out = self.task_head(x_rep)\n",
    "\n",
    "        return out\n",
    "\n"
   ]
  },
  {
   "cell_type": "code",
   "execution_count": 10,
   "metadata": {},
   "outputs": [],
   "source": [
    "device = torch.device('cuda' if torch.cuda.is_available() else 'cpu')\n",
    "model = Net(hidden_dim=256, output_dim=1).to(device)\n",
    "\n",
    "checkpoint = torch.load('/project/dinner/zpengmei/subspace_pytorch/pretrain/denoise/denali/logs_models_denali_0.2/tensorboard_logs/ET_l9_256hc_9l_8head_2024-04-12_21-41-17/ET_best.pth')\n",
    "model.representation_model.load_state_dict(checkpoint, strict=False)\n",
    "\n",
    "# Now we have a pre-trained model, let's freeze it and train the task head\n",
    "for param in model.representation_model.parameters():\n",
    "    param.requires_grad = False\n"
   ]
  },
  {
   "cell_type": "code",
   "execution_count": 21,
   "metadata": {},
   "outputs": [],
   "source": [
    "# you can always accelerate your model via automatic mixed precision\n",
    "\n",
    "\n",
    "# define the optimizer and loss function\n",
    "from torch.optim import Adam\n",
    "from torch.nn import L1Loss\n",
    "from tqdm import tqdm\n",
    "\n",
    "optimizer = Adam(model.parameters(), lr=1e-3)\n",
    "criterion = L1Loss()\n",
    "\n",
    "# define the training loop\n",
    "\n",
    "def train():\n",
    "    model.train()\n",
    "\n",
    "    total_loss = 0\n",
    "    for data in tqdm(train_loader):\n",
    "        data = data.to(device)\n",
    "        optimizer.zero_grad()\n",
    "\n",
    "        out = model(data.z, data.pos, data.batch) # GNN operates on atomic numbers, positions and batch vector which assigns each atom to a specific molecule\n",
    "        loss = criterion(out.view(-1), data.y.view(-1))\n",
    "\n",
    "        loss.backward()\n",
    "        optimizer.step()\n",
    "\n",
    "        total_loss += loss.item()\n",
    "        # show the batch loss in the progress bar\n",
    "        tqdm.write(f'loss: {loss.item()}')\n",
    "\n",
    "    return total_loss / len(train_loader)\n",
    "\n",
    "# define the evaluation loop\n",
    "\n",
    "@torch.no_grad()\n",
    "def test(loader):\n",
    "    model.eval()\n",
    "\n",
    "    total_loss = 0\n",
    "    for data in loader:\n",
    "        data = data.to(device)\n",
    "        out = model(data.z, data.pos, data.batch)\n",
    "        total_loss += criterion(out.view(-1), data.y.view(-1)).item()\n",
    "\n",
    "    return total_loss / len(loader)"
   ]
  },
  {
   "cell_type": "code",
   "execution_count": 22,
   "metadata": {},
   "outputs": [
    {
     "name": "stderr",
     "output_type": "stream",
     "text": [
      "                                                                                                                                               \n",
      "                                                                                                                                               \n",
      "                                                                                                                                               \n",
      "                                                                                                                                               \n",
      "  0%|                                                                                                                  | 0/100 [00:00<?, ?it/s]"
     ]
    },
    {
     "name": "stdout",
     "output_type": "stream",
     "text": [
      "loss: 0.5200073719024658\n",
      "loss: 1.4172673225402832\n",
      "loss: 0.5361088514328003\n",
      "loss: 0.9493891596794128\n"
     ]
    },
    {
     "name": "stderr",
     "output_type": "stream",
     "text": [
      "                                                                                                                                               \n",
      "                                                                                                                                               \n",
      "                                                                                                                                               \n",
      "                                                                                                                                               \n",
      "                                                                                                                                               \n",
      "  0%|                                                                                                                  | 0/100 [00:00<?, ?it/s]"
     ]
    },
    {
     "name": "stdout",
     "output_type": "stream",
     "text": [
      "loss: 1.0238265991210938\n",
      "loss: 0.8548645973205566\n",
      "loss: 0.4784182906150818\n",
      "loss: 0.5422019958496094\n",
      "loss: 0.7181023955345154\n"
     ]
    },
    {
     "name": "stderr",
     "output_type": "stream",
     "text": [
      "                                                                                                                                               \n",
      "                                                                                                                                               \n",
      "                                                                                                                                               \n",
      "                                                                                                                                               \n",
      "                                                                                                                                               \n",
      "  0%|                                                                                                                  | 0/100 [00:00<?, ?it/s]"
     ]
    },
    {
     "name": "stdout",
     "output_type": "stream",
     "text": [
      "loss: 0.7830835580825806\n",
      "loss: 0.781213104724884\n",
      "loss: 0.48556357622146606\n",
      "loss: 0.5631784796714783\n",
      "loss: 0.6033120155334473\n"
     ]
    },
    {
     "name": "stderr",
     "output_type": "stream",
     "text": [
      "                                                                                                                                               \n",
      "                                                                                                                                               \n",
      "                                                                                                                                               \n",
      "                                                                                                                                               \n",
      "                                                                                                                                               \n",
      "  0%|                                                                                                                  | 0/100 [00:01<?, ?it/s]"
     ]
    },
    {
     "name": "stdout",
     "output_type": "stream",
     "text": [
      "loss: 0.7289230823516846\n",
      "loss: 0.6909183263778687\n",
      "loss: 0.6736429333686829\n",
      "loss: 0.5923258066177368\n",
      "loss: 0.5828412175178528\n"
     ]
    },
    {
     "name": "stderr",
     "output_type": "stream",
     "text": [
      "                                                                                                                                               \n",
      "                                                                                                                                               \n",
      "                                                                                                                                               \n",
      "                                                                                                                                               \n",
      "                                                                                                                                               \n",
      "  0%|                                                                                                                  | 0/100 [00:01<?, ?it/s]"
     ]
    },
    {
     "name": "stdout",
     "output_type": "stream",
     "text": [
      "loss: 0.571662187576294\n",
      "loss: 0.623786211013794\n",
      "loss: 0.6461403369903564\n",
      "loss: 0.5875224471092224\n",
      "loss: 0.5990049242973328\n"
     ]
    },
    {
     "name": "stderr",
     "output_type": "stream",
     "text": [
      "                                                                                                                                               \n",
      "                                                                                                                                               \n",
      "                                                                                                                                               \n",
      "                                                                                                                                               \n",
      "                                                                                                                                               \n",
      "  0%|                                                                                                                  | 0/100 [00:01<?, ?it/s]"
     ]
    },
    {
     "name": "stdout",
     "output_type": "stream",
     "text": [
      "loss: 0.43501219153404236\n",
      "loss: 0.5819124579429626\n",
      "loss: 0.6337181329727173\n",
      "loss: 0.5733524560928345\n",
      "loss: 0.6440577507019043\n"
     ]
    },
    {
     "name": "stderr",
     "output_type": "stream",
     "text": [
      "                                                                                                                                               \n",
      "                                                                                                                                               \n",
      "                                                                                                                                               \n",
      "                                                                                                                                               \n",
      "                                                                                                                                               \n",
      "  0%|                                                                                                                  | 0/100 [00:01<?, ?it/s]"
     ]
    },
    {
     "name": "stdout",
     "output_type": "stream",
     "text": [
      "loss: 0.6440508365631104\n",
      "loss: 0.5117762088775635\n",
      "loss: 0.5486366748809814\n",
      "loss: 0.521108865737915\n",
      "loss: 0.608310341835022\n"
     ]
    },
    {
     "name": "stderr",
     "output_type": "stream",
     "text": [
      "                                                                                                                                               \n",
      "                                                                                                                                               \n",
      "                                                                                                                                               \n",
      "                                                                                                                                               \n",
      "                                                                                                                                               \n",
      "  0%|                                                                                                                  | 0/100 [00:01<?, ?it/s]"
     ]
    },
    {
     "name": "stdout",
     "output_type": "stream",
     "text": [
      "loss: 0.5508701205253601\n",
      "loss: 0.506677508354187\n",
      "loss: 0.4590603709220886\n",
      "loss: 0.5459403991699219\n",
      "loss: 0.4940509796142578\n"
     ]
    },
    {
     "name": "stderr",
     "output_type": "stream",
     "text": [
      "                                                                                                                                               \n",
      "                                                                                                                                               \n",
      "                                                                                                                                               \n",
      "                                                                                                                                               \n",
      "                                                                                                                                               \n",
      "  0%|                                                                                                                  | 0/100 [00:02<?, ?it/s]"
     ]
    },
    {
     "name": "stdout",
     "output_type": "stream",
     "text": [
      "loss: 0.5093805193901062\n",
      "loss: 0.5123497247695923\n",
      "loss: 0.5690261125564575\n",
      "loss: 0.5355029702186584\n",
      "loss: 0.6420365571975708\n"
     ]
    },
    {
     "name": "stderr",
     "output_type": "stream",
     "text": [
      "                                                                                                                                               \n",
      "                                                                                                                                               \n",
      "                                                                                                                                               \n",
      "                                                                                                                                               \n",
      "                                                                                                                                               \n",
      "  0%|                                                                                                                  | 0/100 [00:02<?, ?it/s]"
     ]
    },
    {
     "name": "stdout",
     "output_type": "stream",
     "text": [
      "loss: 0.4739060401916504\n",
      "loss: 0.45418739318847656\n",
      "loss: 0.5201643109321594\n",
      "loss: 0.5374792218208313\n",
      "loss: 0.4717155396938324\n"
     ]
    },
    {
     "name": "stderr",
     "output_type": "stream",
     "text": [
      "                                                                                                                                               \n",
      "                                                                                                                                               \n",
      "                                                                                                                                               \n",
      "                                                                                                                                               \n",
      "                                                                                                                                               \n",
      "  0%|                                                                                                                  | 0/100 [00:02<?, ?it/s]"
     ]
    },
    {
     "name": "stdout",
     "output_type": "stream",
     "text": [
      "loss: 0.49420779943466187\n",
      "loss: 0.5692234039306641\n",
      "loss: 0.5540987253189087\n",
      "loss: 0.537847638130188\n",
      "loss: 0.5032912492752075\n"
     ]
    },
    {
     "name": "stderr",
     "output_type": "stream",
     "text": [
      "                                                                                                                                               \n",
      "                                                                                                                                               \n",
      "                                                                                                                                               \n",
      "                                                                                                                                               \n",
      "                                                                                                                                               \n",
      "  0%|                                                                                                                  | 0/100 [00:02<?, ?it/s]"
     ]
    },
    {
     "name": "stdout",
     "output_type": "stream",
     "text": [
      "loss: 0.5461724996566772\n",
      "loss: 0.47859805822372437\n",
      "loss: 0.489015132188797\n",
      "loss: 0.5713825225830078\n",
      "loss: 0.49997639656066895\n"
     ]
    },
    {
     "name": "stderr",
     "output_type": "stream",
     "text": [
      "                                                                                                                                               \n",
      "                                                                                                                                               \n",
      "                                                                                                                                               \n",
      "                                                                                                                                               \n",
      "                                                                                                                                               \n",
      "  0%|                                                                                                                  | 0/100 [00:03<?, ?it/s]"
     ]
    },
    {
     "name": "stdout",
     "output_type": "stream",
     "text": [
      "loss: 0.5413932204246521\n",
      "loss: 0.49666327238082886\n",
      "loss: 0.5045497417449951\n",
      "loss: 0.5448247194290161\n",
      "loss: 0.4937674403190613\n"
     ]
    },
    {
     "name": "stderr",
     "output_type": "stream",
     "text": [
      "                                                                                                                                               \n",
      "                                                                                                                                               \n",
      "                                                                                                                                               \n",
      "                                                                                                                                               \n",
      "                                                                                                                                               \n",
      "  0%|                                                                                                                  | 0/100 [00:03<?, ?it/s]"
     ]
    },
    {
     "name": "stdout",
     "output_type": "stream",
     "text": [
      "loss: 0.5411781668663025\n",
      "loss: 0.486542284488678\n",
      "loss: 0.46902143955230713\n",
      "loss: 0.575258731842041\n",
      "loss: 0.569782018661499\n"
     ]
    },
    {
     "name": "stderr",
     "output_type": "stream",
     "text": [
      "                                                                                                                                               \n",
      "                                                                                                                                               \n",
      "                                                                                                                                               \n",
      "                                                                                                                                               \n",
      "                                                                                                                                               \n",
      "  0%|                                                                                                                  | 0/100 [00:03<?, ?it/s]"
     ]
    },
    {
     "name": "stdout",
     "output_type": "stream",
     "text": [
      "loss: 0.4520796239376068\n",
      "loss: 0.466191828250885\n",
      "loss: 0.4747021496295929\n",
      "loss: 0.4974052906036377\n",
      "loss: 0.5050523281097412\n"
     ]
    },
    {
     "name": "stderr",
     "output_type": "stream",
     "text": [
      "                                                                                                                                               \n",
      "                                                                                                                                               \n",
      "                                                                                                                                               \n",
      "                                                                                                                                               \n",
      "                                                                                                                                               \n",
      "  0%|                                                                                                                  | 0/100 [00:03<?, ?it/s]"
     ]
    },
    {
     "name": "stdout",
     "output_type": "stream",
     "text": [
      "loss: 0.5825802087783813\n",
      "loss: 0.46620848774909973\n",
      "loss: 0.5143654942512512\n",
      "loss: 0.48063504695892334\n",
      "loss: 0.46445274353027344\n"
     ]
    },
    {
     "name": "stderr",
     "output_type": "stream",
     "text": [
      "                                                                                                                                               \n",
      "                                                                                                                                               \n",
      "                                                                                                                                               \n",
      "                                                                                                                                               \n",
      "                                                                                                                                               \n",
      "  0%|                                                                                                                  | 0/100 [00:04<?, ?it/s]"
     ]
    },
    {
     "name": "stdout",
     "output_type": "stream",
     "text": [
      "loss: 0.4981779456138611\n",
      "loss: 0.5354379415512085\n",
      "loss: 0.474453330039978\n",
      "loss: 0.557253360748291\n",
      "loss: 0.43746915459632874\n"
     ]
    },
    {
     "name": "stderr",
     "output_type": "stream",
     "text": [
      "                                                                                                                                               \n",
      "                                                                                                                                               \n",
      "                                                                                                                                               \n",
      "                                                                                                                                               \n",
      "                                                                                                                                               \n",
      "  0%|                                                                                                                  | 0/100 [00:04<?, ?it/s]"
     ]
    },
    {
     "name": "stdout",
     "output_type": "stream",
     "text": [
      "loss: 0.5012587308883667\n",
      "loss: 0.49300187826156616\n",
      "loss: 0.6555629372596741\n",
      "loss: 0.5537574291229248\n",
      "loss: 0.4676777124404907\n"
     ]
    },
    {
     "name": "stderr",
     "output_type": "stream",
     "text": [
      "                                                                                                                                               \n",
      "                                                                                                                                               \n",
      "                                                                                                                                               \n",
      "                                                                                                                                               \n",
      "                                                                                                                                               \n",
      "  0%|                                                                                                                  | 0/100 [00:04<?, ?it/s]"
     ]
    },
    {
     "name": "stdout",
     "output_type": "stream",
     "text": [
      "loss: 0.43724489212036133\n",
      "loss: 0.4777649939060211\n",
      "loss: 0.4391739070415497\n",
      "loss: 0.5670796632766724\n",
      "loss: 0.461762934923172\n"
     ]
    },
    {
     "name": "stderr",
     "output_type": "stream",
     "text": [
      "                                                                                                                                               \n",
      "                                                                                                                                               \n",
      "                                                                                                                                               \n",
      "                                                                                                                                               \n",
      "                                                                                                                                               \n",
      "  0%|                                                                                                                  | 0/100 [00:04<?, ?it/s]"
     ]
    },
    {
     "name": "stdout",
     "output_type": "stream",
     "text": [
      "loss: 0.4494091868400574\n",
      "loss: 0.4682985842227936\n",
      "loss: 0.4750130772590637\n",
      "loss: 0.48602044582366943\n",
      "loss: 0.4622310400009155\n"
     ]
    },
    {
     "name": "stderr",
     "output_type": "stream",
     "text": [
      "                                                                                                                                               \n",
      "                                                                                                                                               \n",
      "                                                                                                                                               \n",
      "                                                                                                                                               \n",
      "                                                                                                                                               \n",
      "  0%|                                                                                                                  | 0/100 [00:05<?, ?it/s]"
     ]
    },
    {
     "name": "stdout",
     "output_type": "stream",
     "text": [
      "loss: 0.5157997012138367\n",
      "loss: 0.5318399667739868\n",
      "loss: 0.4941781759262085\n",
      "loss: 0.47181665897369385\n",
      "loss: 0.48596546053886414\n"
     ]
    },
    {
     "name": "stderr",
     "output_type": "stream",
     "text": [
      "                                                                                                                                               \n",
      "                                                                                                                                               \n",
      "                                                                                                                                               \n",
      "                                                                                                                                               \n",
      "                                                                                                                                               \n",
      "  0%|                                                                                                                  | 0/100 [00:05<?, ?it/s]"
     ]
    },
    {
     "name": "stdout",
     "output_type": "stream",
     "text": [
      "loss: 0.5119925737380981\n",
      "loss: 0.5438975095748901\n",
      "loss: 0.527809739112854\n",
      "loss: 0.530188798904419\n",
      "loss: 0.5553250312805176\n"
     ]
    },
    {
     "name": "stderr",
     "output_type": "stream",
     "text": [
      "                                                                                                                                               \n",
      "                                                                                                                                               \n",
      "                                                                                                                                               \n",
      "                                                                                                                                               \n",
      "                                                                                                                                               \n",
      "  0%|                                                                                                                  | 0/100 [00:05<?, ?it/s]"
     ]
    },
    {
     "name": "stdout",
     "output_type": "stream",
     "text": [
      "loss: 0.5000234246253967\n",
      "loss: 0.4896053671836853\n",
      "loss: 0.5014001131057739\n",
      "loss: 0.38670942187309265\n",
      "loss: 0.46811947226524353\n"
     ]
    },
    {
     "name": "stderr",
     "output_type": "stream",
     "text": [
      "                                                                                                                                               \n",
      "                                                                                                                                               \n",
      "                                                                                                                                               \n",
      "                                                                                                                                               \n",
      "                                                                                                                                               \n",
      "  0%|                                                                                                                  | 0/100 [00:05<?, ?it/s]"
     ]
    },
    {
     "name": "stdout",
     "output_type": "stream",
     "text": [
      "loss: 0.5459826588630676\n",
      "loss: 0.513683557510376\n",
      "loss: 0.40534287691116333\n",
      "loss: 0.5084928274154663\n",
      "loss: 0.4886758029460907\n"
     ]
    },
    {
     "name": "stderr",
     "output_type": "stream",
     "text": [
      "                                                                                                                                               \n",
      "                                                                                                                                               \n",
      "                                                                                                                                               \n",
      "                                                                                                                                               \n",
      "                                                                                                                                               \n",
      "  0%|                                                                                                                  | 0/100 [00:06<?, ?it/s]"
     ]
    },
    {
     "name": "stdout",
     "output_type": "stream",
     "text": [
      "loss: 0.4758909046649933\n",
      "loss: 0.4649079442024231\n",
      "loss: 0.45940619707107544\n",
      "loss: 0.46280282735824585\n",
      "loss: 0.5146344900131226\n"
     ]
    },
    {
     "name": "stderr",
     "output_type": "stream",
     "text": [
      "                                                                                                                                               \n",
      "                                                                                                                                               \n",
      "                                                                                                                                               \n",
      "                                                                                                                                               \n",
      "                                                                                                                                               \n",
      "  0%|                                                                                                                  | 0/100 [00:06<?, ?it/s]"
     ]
    },
    {
     "name": "stdout",
     "output_type": "stream",
     "text": [
      "loss: 0.4735131859779358\n",
      "loss: 0.5110135674476624\n",
      "loss: 0.6561450362205505\n",
      "loss: 0.4792681336402893\n",
      "loss: 0.5401037335395813\n"
     ]
    },
    {
     "name": "stderr",
     "output_type": "stream",
     "text": [
      "                                                                                                                                               \n",
      "                                                                                                                                               \n",
      "                                                                                                                                               \n",
      "                                                                                                                                               \n",
      "                                                                                                                                               \n",
      "  0%|                                                                                                                  | 0/100 [00:06<?, ?it/s]"
     ]
    },
    {
     "name": "stdout",
     "output_type": "stream",
     "text": [
      "loss: 0.39926043152809143\n",
      "loss: 0.3911281228065491\n",
      "loss: 0.45827996730804443\n",
      "loss: 0.43375465273857117\n",
      "loss: 0.43107128143310547\n"
     ]
    },
    {
     "name": "stderr",
     "output_type": "stream",
     "text": [
      "                                                                                                                                               \n",
      "                                                                                                                                               \n",
      "                                                                                                                                               \n",
      "                                                                                                                                               \n",
      "                                                                                                                                               \n",
      "  0%|                                                                                                                  | 0/100 [00:06<?, ?it/s]"
     ]
    },
    {
     "name": "stdout",
     "output_type": "stream",
     "text": [
      "loss: 0.49711892008781433\n",
      "loss: 0.5112186670303345\n",
      "loss: 0.48219603300094604\n",
      "loss: 0.5261686444282532\n",
      "loss: 0.4770900309085846\n"
     ]
    },
    {
     "name": "stderr",
     "output_type": "stream",
     "text": [
      "                                                                                                                                               \n",
      "                                                                                                                                               \n",
      "                                                                                                                                               \n",
      "                                                                                                                                               \n",
      "                                                                                                                                               \n",
      "  0%|                                                                                                                  | 0/100 [00:07<?, ?it/s]"
     ]
    },
    {
     "name": "stdout",
     "output_type": "stream",
     "text": [
      "loss: 0.5050716400146484\n",
      "loss: 0.424006849527359\n",
      "loss: 0.5261406302452087\n",
      "loss: 0.5121563673019409\n",
      "loss: 0.46737784147262573\n"
     ]
    },
    {
     "name": "stderr",
     "output_type": "stream",
     "text": [
      "                                                                                                                                               \n",
      "                                                                                                                                               \n",
      "                                                                                                                                               \n",
      "                                                                                                                                               \n",
      "                                                                                                                                               \n",
      "  0%|                                                                                                                  | 0/100 [00:07<?, ?it/s]"
     ]
    },
    {
     "name": "stdout",
     "output_type": "stream",
     "text": [
      "loss: 0.46901875734329224\n",
      "loss: 0.4551428556442261\n",
      "loss: 0.5050830245018005\n",
      "loss: 0.4518866539001465\n",
      "loss: 0.4814850687980652\n"
     ]
    },
    {
     "name": "stderr",
     "output_type": "stream",
     "text": [
      "                                                                                                                                               \n",
      "                                                                                                                                               \n",
      "                                                                                                                                               \n",
      "                                                                                                                                               \n",
      "                                                                                                                                               \n",
      "  0%|                                                                                                                  | 0/100 [00:07<?, ?it/s]"
     ]
    },
    {
     "name": "stdout",
     "output_type": "stream",
     "text": [
      "loss: 0.4819481372833252\n",
      "loss: 0.534110963344574\n",
      "loss: 0.4251474142074585\n",
      "loss: 0.5552624464035034\n",
      "loss: 0.48748791217803955\n"
     ]
    },
    {
     "name": "stderr",
     "output_type": "stream",
     "text": [
      "                                                                                                                                               \n",
      "                                                                                                                                               \n",
      "                                                                                                                                               \n",
      "                                                                                                                                               \n",
      "                                                                                                                                               \n",
      "  0%|                                                                                                                  | 0/100 [00:07<?, ?it/s]"
     ]
    },
    {
     "name": "stdout",
     "output_type": "stream",
     "text": [
      "loss: 0.41850006580352783\n",
      "loss: 0.5276327729225159\n",
      "loss: 0.46134114265441895\n",
      "loss: 0.508721649646759\n",
      "loss: 0.46908894181251526\n"
     ]
    },
    {
     "name": "stderr",
     "output_type": "stream",
     "text": [
      "                                                                                                                                               \n",
      "                                                                                                                                               \n",
      "                                                                                                                                               \n",
      "                                                                                                                                               \n",
      "                                                                                                                                               \n",
      "  0%|                                                                                                                  | 0/100 [00:08<?, ?it/s]"
     ]
    },
    {
     "name": "stdout",
     "output_type": "stream",
     "text": [
      "loss: 0.521167516708374\n",
      "loss: 0.48932141065597534\n",
      "loss: 0.46153396368026733\n",
      "loss: 0.4699472188949585\n",
      "loss: 0.44696980714797974\n"
     ]
    },
    {
     "name": "stderr",
     "output_type": "stream",
     "text": [
      "                                                                                                                                               \n",
      "                                                                                                                                               \n",
      "                                                                                                                                               \n",
      "                                                                                                                                               \n",
      "                                                                                                                                               \n",
      "  0%|                                                                                                                  | 0/100 [00:08<?, ?it/s]"
     ]
    },
    {
     "name": "stdout",
     "output_type": "stream",
     "text": [
      "loss: 0.4940582811832428\n",
      "loss: 0.5041068196296692\n",
      "loss: 0.5258564352989197\n",
      "loss: 0.4459315538406372\n",
      "loss: 0.480510950088501\n"
     ]
    },
    {
     "name": "stderr",
     "output_type": "stream",
     "text": [
      "                                                                                                                                               \n",
      "                                                                                                                                               \n",
      "                                                                                                                                               \n",
      "                                                                                                                                               \n",
      "                                                                                                                                               \n",
      "  0%|                                                                                                                  | 0/100 [00:08<?, ?it/s]"
     ]
    },
    {
     "name": "stdout",
     "output_type": "stream",
     "text": [
      "loss: 0.42443615198135376\n",
      "loss: 0.39924484491348267\n",
      "loss: 0.5269871354103088\n",
      "loss: 0.4557105004787445\n",
      "loss: 0.44570356607437134\n"
     ]
    },
    {
     "name": "stderr",
     "output_type": "stream",
     "text": [
      "                                                                                                                                               \n",
      "                                                                                                                                               \n",
      "                                                                                                                                               \n",
      "                                                                                                                                               \n",
      "                                                                                                                                               \n",
      "  0%|                                                                                                                  | 0/100 [00:08<?, ?it/s]"
     ]
    },
    {
     "name": "stdout",
     "output_type": "stream",
     "text": [
      "loss: 0.5410065054893494\n",
      "loss: 0.46842634677886963\n",
      "loss: 0.4822745621204376\n",
      "loss: 0.5665594339370728\n",
      "loss: 0.6483844518661499\n"
     ]
    },
    {
     "name": "stderr",
     "output_type": "stream",
     "text": [
      "                                                                                                                                               \n",
      "                                                                                                                                               \n",
      "                                                                                                                                               \n",
      "                                                                                                                                               \n",
      "                                                                                                                                               \n",
      "  0%|                                                                                                                  | 0/100 [00:08<?, ?it/s]"
     ]
    },
    {
     "name": "stdout",
     "output_type": "stream",
     "text": [
      "loss: 0.4846384525299072\n",
      "loss: 0.43887749314308167\n",
      "loss: 0.5246306657791138\n",
      "loss: 0.5096452236175537\n",
      "loss: 0.49886399507522583\n"
     ]
    },
    {
     "name": "stderr",
     "output_type": "stream",
     "text": [
      "                                                                                                                                               \n",
      "                                                                                                                                               \n",
      "                                                                                                                                               \n",
      "                                                                                                                                               \n",
      "                                                                                                                                               \n",
      "  0%|                                                                                                                  | 0/100 [00:09<?, ?it/s]"
     ]
    },
    {
     "name": "stdout",
     "output_type": "stream",
     "text": [
      "loss: 0.4653892517089844\n",
      "loss: 0.49057167768478394\n",
      "loss: 0.42611604928970337\n",
      "loss: 0.4733826518058777\n",
      "loss: 0.4001539349555969\n"
     ]
    },
    {
     "name": "stderr",
     "output_type": "stream",
     "text": [
      "                                                                                                                                               \n",
      "                                                                                                                                               \n",
      "                                                                                                                                               \n",
      "                                                                                                                                               \n",
      "                                                                                                                                               \n",
      "  0%|                                                                                                                  | 0/100 [00:09<?, ?it/s]"
     ]
    },
    {
     "name": "stdout",
     "output_type": "stream",
     "text": [
      "loss: 0.4658302366733551\n",
      "loss: 0.49045228958129883\n",
      "loss: 0.4130503535270691\n",
      "loss: 0.45727071166038513\n",
      "loss: 0.49089258909225464\n"
     ]
    },
    {
     "name": "stderr",
     "output_type": "stream",
     "text": [
      "                                                                                                                                               \n",
      "                                                                                                                                               \n",
      "                                                                                                                                               \n",
      "                                                                                                                                               \n",
      "                                                                                                                                               \n",
      "  0%|                                                                                                                  | 0/100 [00:09<?, ?it/s]"
     ]
    },
    {
     "name": "stdout",
     "output_type": "stream",
     "text": [
      "loss: 0.4751192033290863\n",
      "loss: 0.44711166620254517\n",
      "loss: 0.5647507905960083\n",
      "loss: 0.5285124778747559\n",
      "loss: 0.43312662839889526\n"
     ]
    },
    {
     "name": "stderr",
     "output_type": "stream",
     "text": [
      "                                                                                                                                               \n",
      "                                                                                                                                               \n",
      "                                                                                                                                               \n",
      "                                                                                                                                               \n",
      "                                                                                                                                               \n",
      "  0%|                                                                                                                  | 0/100 [00:09<?, ?it/s]"
     ]
    },
    {
     "name": "stdout",
     "output_type": "stream",
     "text": [
      "loss: 0.49078306555747986\n",
      "loss: 0.4528542160987854\n",
      "loss: 0.48955193161964417\n",
      "loss: 0.5036443471908569\n",
      "loss: 0.4933597445487976\n"
     ]
    },
    {
     "name": "stderr",
     "output_type": "stream",
     "text": [
      "                                                                                                                                               \n",
      "                                                                                                                                               \n",
      "                                                                                                                                               \n",
      "                                                                                                                                               \n",
      "                                                                                                                                               \n",
      "  0%|                                                                                                                  | 0/100 [00:10<?, ?it/s]"
     ]
    },
    {
     "name": "stdout",
     "output_type": "stream",
     "text": [
      "loss: 0.46323317289352417\n",
      "loss: 0.4822259545326233\n",
      "loss: 0.47299495339393616\n",
      "loss: 0.5207004547119141\n",
      "loss: 0.4995160698890686\n"
     ]
    },
    {
     "name": "stderr",
     "output_type": "stream",
     "text": [
      "                                                                                                                                               \n",
      "                                                                                                                                               \n",
      "                                                                                                                                               \n",
      "                                                                                                                                               \n",
      "                                                                                                                                               \n",
      "  0%|                                                                                                                  | 0/100 [00:10<?, ?it/s]"
     ]
    },
    {
     "name": "stdout",
     "output_type": "stream",
     "text": [
      "loss: 0.5509845018386841\n",
      "loss: 0.4649443030357361\n",
      "loss: 0.47470855712890625\n",
      "loss: 0.4716569781303406\n",
      "loss: 0.4292088449001312\n"
     ]
    },
    {
     "name": "stderr",
     "output_type": "stream",
     "text": [
      "                                                                                                                                               \n",
      "                                                                                                                                               \n",
      "                                                                                                                                               \n",
      "                                                                                                                                               \n",
      "                                                                                                                                               \n",
      "  0%|                                                                                                                  | 0/100 [00:10<?, ?it/s]"
     ]
    },
    {
     "name": "stdout",
     "output_type": "stream",
     "text": [
      "loss: 0.5389305949211121\n",
      "loss: 0.4684444069862366\n",
      "loss: 0.5153197050094604\n",
      "loss: 0.5853538513183594\n",
      "loss: 0.4639259874820709\n"
     ]
    },
    {
     "name": "stderr",
     "output_type": "stream",
     "text": [
      "                                                                                                                                               \n",
      "                                                                                                                                               \n",
      "                                                                                                                                               \n",
      "                                                                                                                                               \n",
      "                                                                                                                                               \n",
      "  0%|                                                                                                                  | 0/100 [00:10<?, ?it/s]"
     ]
    },
    {
     "name": "stdout",
     "output_type": "stream",
     "text": [
      "loss: 0.44693800806999207\n",
      "loss: 0.5210949182510376\n",
      "loss: 0.46951574087142944\n",
      "loss: 0.44994473457336426\n",
      "loss: 0.4922454059123993\n"
     ]
    },
    {
     "name": "stderr",
     "output_type": "stream",
     "text": [
      "                                                                                                                                               \n",
      "                                                                                                                                               \n",
      "                                                                                                                                               \n",
      "                                                                                                                                               \n",
      "                                                                                                                                               \n",
      "  0%|                                                                                                                  | 0/100 [00:11<?, ?it/s]"
     ]
    },
    {
     "name": "stdout",
     "output_type": "stream",
     "text": [
      "loss: 0.5363374948501587\n",
      "loss: 0.4727838337421417\n",
      "loss: 0.40182483196258545\n",
      "loss: 0.47520095109939575\n",
      "loss: 0.5307572484016418\n"
     ]
    },
    {
     "name": "stderr",
     "output_type": "stream",
     "text": [
      "                                                                                                                                               \n",
      "                                                                                                                                               \n",
      "                                                                                                                                               \n",
      "                                                                                                                                               \n",
      "                                                                                                                                               \n",
      "  0%|                                                                                                                  | 0/100 [00:11<?, ?it/s]"
     ]
    },
    {
     "name": "stdout",
     "output_type": "stream",
     "text": [
      "loss: 0.5116574168205261\n",
      "loss: 0.4617246389389038\n",
      "loss: 0.503728449344635\n",
      "loss: 0.49595189094543457\n",
      "loss: 0.518054187297821\n"
     ]
    },
    {
     "name": "stderr",
     "output_type": "stream",
     "text": [
      "                                                                                                                                               \n",
      "                                                                                                                                               \n",
      "                                                                                                                                               \n",
      "                                                                                                                                               \n",
      "                                                                                                                                               \n",
      "  0%|                                                                                                                  | 0/100 [00:11<?, ?it/s]"
     ]
    },
    {
     "name": "stdout",
     "output_type": "stream",
     "text": [
      "loss: 0.4496854245662689\n",
      "loss: 0.553199291229248\n",
      "loss: 0.4581904411315918\n",
      "loss: 0.4520050883293152\n",
      "loss: 0.5408293604850769\n"
     ]
    },
    {
     "name": "stderr",
     "output_type": "stream",
     "text": [
      "                                                                                                                                               \n",
      "                                                                                                                                               \n",
      "                                                                                                                                               \n",
      "                                                                                                                                               \n",
      "                                                                                                                                               \n",
      "  0%|                                                                                                                  | 0/100 [00:11<?, ?it/s]"
     ]
    },
    {
     "name": "stdout",
     "output_type": "stream",
     "text": [
      "loss: 0.42990002036094666\n",
      "loss: 0.5800740718841553\n",
      "loss: 0.4322085380554199\n",
      "loss: 0.4585990905761719\n",
      "loss: 0.5278629064559937\n"
     ]
    },
    {
     "name": "stderr",
     "output_type": "stream",
     "text": [
      "                                                                                                                                               \n",
      "                                                                                                                                               \n",
      "                                                                                                                                               \n",
      "                                                                                                                                               \n",
      "                                                                                                                                               \n",
      "  0%|                                                                                                                  | 0/100 [00:12<?, ?it/s]"
     ]
    },
    {
     "name": "stdout",
     "output_type": "stream",
     "text": [
      "loss: 0.489776074886322\n",
      "loss: 0.46418118476867676\n",
      "loss: 0.4931550920009613\n",
      "loss: 0.4981940984725952\n",
      "loss: 0.4076874256134033\n"
     ]
    },
    {
     "name": "stderr",
     "output_type": "stream",
     "text": [
      "                                                                                                                                               \n",
      "                                                                                                                                               \n",
      "                                                                                                                                               \n",
      "                                                                                                                                               \n",
      "                                                                                                                                               \n",
      "  0%|                                                                                                                  | 0/100 [00:12<?, ?it/s]"
     ]
    },
    {
     "name": "stdout",
     "output_type": "stream",
     "text": [
      "loss: 0.5457660555839539\n",
      "loss: 0.5236266255378723\n",
      "loss: 0.4469335675239563\n",
      "loss: 0.47784915566444397\n",
      "loss: 0.5025129914283752\n"
     ]
    },
    {
     "name": "stderr",
     "output_type": "stream",
     "text": [
      "                                                                                                                                               \n",
      "                                                                                                                                               \n",
      "                                                                                                                                               \n",
      "                                                                                                                                               \n",
      "                                                                                                                                               \n",
      "  0%|                                                                                                                  | 0/100 [00:12<?, ?it/s]"
     ]
    },
    {
     "name": "stdout",
     "output_type": "stream",
     "text": [
      "loss: 0.4776964783668518\n",
      "loss: 0.5233088731765747\n",
      "loss: 0.5217671394348145\n",
      "loss: 0.5834490060806274\n",
      "loss: 0.44416719675064087\n"
     ]
    },
    {
     "name": "stderr",
     "output_type": "stream",
     "text": [
      "                                                                                                                                               \n",
      "                                                                                                                                               \n",
      "                                                                                                                                               \n",
      "                                                                                                                                               \n",
      "                                                                                                                                               \n",
      "  0%|                                                                                                                  | 0/100 [00:12<?, ?it/s]"
     ]
    },
    {
     "name": "stdout",
     "output_type": "stream",
     "text": [
      "loss: 0.5613101124763489\n",
      "loss: 0.48074063658714294\n",
      "loss: 0.5003455877304077\n",
      "loss: 0.49599993228912354\n",
      "loss: 0.5002671480178833\n"
     ]
    },
    {
     "name": "stderr",
     "output_type": "stream",
     "text": [
      "                                                                                                                                               \n",
      "                                                                                                                                               \n",
      " 31%|████████████████████████████████▏                                                                       | 266/860 [00:13<00:29, 20.42it/s]\n",
      "  0%|                                                                                                                  | 0/100 [00:13<?, ?it/s]\n"
     ]
    },
    {
     "name": "stdout",
     "output_type": "stream",
     "text": [
      "loss: 0.48379987478256226\n",
      "loss: 0.46983882784843445\n"
     ]
    },
    {
     "ename": "KeyboardInterrupt",
     "evalue": "",
     "output_type": "error",
     "traceback": [
      "\u001b[0;31m---------------------------------------------------------------------------\u001b[0m",
      "\u001b[0;31mKeyboardInterrupt\u001b[0m                         Traceback (most recent call last)",
      "Cell \u001b[0;32mIn[22], line 6\u001b[0m\n\u001b[1;32m      4\u001b[0m best_val_loss \u001b[38;5;241m=\u001b[39m \u001b[38;5;28;01mNone\u001b[39;00m\n\u001b[1;32m      5\u001b[0m \u001b[38;5;28;01mfor\u001b[39;00m epoch \u001b[38;5;129;01min\u001b[39;00m tqdm(\u001b[38;5;28mrange\u001b[39m(\u001b[38;5;241m1\u001b[39m, \u001b[38;5;241m101\u001b[39m)):\n\u001b[0;32m----> 6\u001b[0m     loss \u001b[38;5;241m=\u001b[39m \u001b[43mtrain\u001b[49m\u001b[43m(\u001b[49m\u001b[43m)\u001b[49m\n\u001b[1;32m      7\u001b[0m     \u001b[38;5;28mprint\u001b[39m(\u001b[38;5;124mf\u001b[39m\u001b[38;5;124m'\u001b[39m\u001b[38;5;124mEpoch: \u001b[39m\u001b[38;5;132;01m{\u001b[39;00mepoch\u001b[38;5;132;01m:\u001b[39;00m\u001b[38;5;124m03d\u001b[39m\u001b[38;5;132;01m}\u001b[39;00m\u001b[38;5;124m, Loss: \u001b[39m\u001b[38;5;132;01m{\u001b[39;00mloss\u001b[38;5;132;01m:\u001b[39;00m\u001b[38;5;124m.4f\u001b[39m\u001b[38;5;132;01m}\u001b[39;00m\u001b[38;5;124m'\u001b[39m)\n\u001b[1;32m      9\u001b[0m     \u001b[38;5;66;03m# you can change the frequency of validation and test\u001b[39;00m\n",
      "Cell \u001b[0;32mIn[21], line 22\u001b[0m, in \u001b[0;36mtrain\u001b[0;34m()\u001b[0m\n\u001b[1;32m     19\u001b[0m data \u001b[38;5;241m=\u001b[39m data\u001b[38;5;241m.\u001b[39mto(device)\n\u001b[1;32m     20\u001b[0m optimizer\u001b[38;5;241m.\u001b[39mzero_grad()\n\u001b[0;32m---> 22\u001b[0m out \u001b[38;5;241m=\u001b[39m \u001b[43mmodel\u001b[49m\u001b[43m(\u001b[49m\u001b[43mdata\u001b[49m\u001b[38;5;241;43m.\u001b[39;49m\u001b[43mz\u001b[49m\u001b[43m,\u001b[49m\u001b[43m \u001b[49m\u001b[43mdata\u001b[49m\u001b[38;5;241;43m.\u001b[39;49m\u001b[43mpos\u001b[49m\u001b[43m,\u001b[49m\u001b[43m \u001b[49m\u001b[43mdata\u001b[49m\u001b[38;5;241;43m.\u001b[39;49m\u001b[43mbatch\u001b[49m\u001b[43m)\u001b[49m \u001b[38;5;66;03m# GNN operates on atomic numbers, positions and batch vector which assigns each atom to a specific molecule\u001b[39;00m\n\u001b[1;32m     23\u001b[0m loss \u001b[38;5;241m=\u001b[39m criterion(out\u001b[38;5;241m.\u001b[39mview(\u001b[38;5;241m-\u001b[39m\u001b[38;5;241m1\u001b[39m), data\u001b[38;5;241m.\u001b[39my\u001b[38;5;241m.\u001b[39mview(\u001b[38;5;241m-\u001b[39m\u001b[38;5;241m1\u001b[39m))\n\u001b[1;32m     25\u001b[0m loss\u001b[38;5;241m.\u001b[39mbackward()\n",
      "File \u001b[0;32m/project/dinner/zpengmei/conda_envs/torch/lib/python3.11/site-packages/torch/nn/modules/module.py:1511\u001b[0m, in \u001b[0;36mModule._wrapped_call_impl\u001b[0;34m(self, *args, **kwargs)\u001b[0m\n\u001b[1;32m   1509\u001b[0m     \u001b[38;5;28;01mreturn\u001b[39;00m \u001b[38;5;28mself\u001b[39m\u001b[38;5;241m.\u001b[39m_compiled_call_impl(\u001b[38;5;241m*\u001b[39margs, \u001b[38;5;241m*\u001b[39m\u001b[38;5;241m*\u001b[39mkwargs)  \u001b[38;5;66;03m# type: ignore[misc]\u001b[39;00m\n\u001b[1;32m   1510\u001b[0m \u001b[38;5;28;01melse\u001b[39;00m:\n\u001b[0;32m-> 1511\u001b[0m     \u001b[38;5;28;01mreturn\u001b[39;00m \u001b[38;5;28;43mself\u001b[39;49m\u001b[38;5;241;43m.\u001b[39;49m\u001b[43m_call_impl\u001b[49m\u001b[43m(\u001b[49m\u001b[38;5;241;43m*\u001b[39;49m\u001b[43margs\u001b[49m\u001b[43m,\u001b[49m\u001b[43m \u001b[49m\u001b[38;5;241;43m*\u001b[39;49m\u001b[38;5;241;43m*\u001b[39;49m\u001b[43mkwargs\u001b[49m\u001b[43m)\u001b[49m\n",
      "File \u001b[0;32m/project/dinner/zpengmei/conda_envs/torch/lib/python3.11/site-packages/torch/nn/modules/module.py:1520\u001b[0m, in \u001b[0;36mModule._call_impl\u001b[0;34m(self, *args, **kwargs)\u001b[0m\n\u001b[1;32m   1515\u001b[0m \u001b[38;5;66;03m# If we don't have any hooks, we want to skip the rest of the logic in\u001b[39;00m\n\u001b[1;32m   1516\u001b[0m \u001b[38;5;66;03m# this function, and just call forward.\u001b[39;00m\n\u001b[1;32m   1517\u001b[0m \u001b[38;5;28;01mif\u001b[39;00m \u001b[38;5;129;01mnot\u001b[39;00m (\u001b[38;5;28mself\u001b[39m\u001b[38;5;241m.\u001b[39m_backward_hooks \u001b[38;5;129;01mor\u001b[39;00m \u001b[38;5;28mself\u001b[39m\u001b[38;5;241m.\u001b[39m_backward_pre_hooks \u001b[38;5;129;01mor\u001b[39;00m \u001b[38;5;28mself\u001b[39m\u001b[38;5;241m.\u001b[39m_forward_hooks \u001b[38;5;129;01mor\u001b[39;00m \u001b[38;5;28mself\u001b[39m\u001b[38;5;241m.\u001b[39m_forward_pre_hooks\n\u001b[1;32m   1518\u001b[0m         \u001b[38;5;129;01mor\u001b[39;00m _global_backward_pre_hooks \u001b[38;5;129;01mor\u001b[39;00m _global_backward_hooks\n\u001b[1;32m   1519\u001b[0m         \u001b[38;5;129;01mor\u001b[39;00m _global_forward_hooks \u001b[38;5;129;01mor\u001b[39;00m _global_forward_pre_hooks):\n\u001b[0;32m-> 1520\u001b[0m     \u001b[38;5;28;01mreturn\u001b[39;00m \u001b[43mforward_call\u001b[49m\u001b[43m(\u001b[49m\u001b[38;5;241;43m*\u001b[39;49m\u001b[43margs\u001b[49m\u001b[43m,\u001b[49m\u001b[43m \u001b[49m\u001b[38;5;241;43m*\u001b[39;49m\u001b[38;5;241;43m*\u001b[39;49m\u001b[43mkwargs\u001b[49m\u001b[43m)\u001b[49m\n\u001b[1;32m   1522\u001b[0m \u001b[38;5;28;01mtry\u001b[39;00m:\n\u001b[1;32m   1523\u001b[0m     result \u001b[38;5;241m=\u001b[39m \u001b[38;5;28;01mNone\u001b[39;00m\n",
      "Cell \u001b[0;32mIn[8], line 29\u001b[0m, in \u001b[0;36mNet.forward\u001b[0;34m(self, z, pos, batch)\u001b[0m\n\u001b[1;32m     26\u001b[0m \u001b[38;5;28;01mdef\u001b[39;00m \u001b[38;5;21mforward\u001b[39m(\u001b[38;5;28mself\u001b[39m, z, pos, batch):\n\u001b[1;32m     28\u001b[0m     x_rep,_ , _ \u001b[38;5;241m=\u001b[39m \u001b[38;5;28mself\u001b[39m\u001b[38;5;241m.\u001b[39mrepresentation_model(z, pos, batch)\n\u001b[0;32m---> 29\u001b[0m     x_rep \u001b[38;5;241m=\u001b[39m \u001b[43mscatter\u001b[49m\u001b[43m(\u001b[49m\u001b[43mx_rep\u001b[49m\u001b[43m,\u001b[49m\u001b[43m \u001b[49m\u001b[43mbatch\u001b[49m\u001b[43m,\u001b[49m\u001b[43m \u001b[49m\u001b[43mdim\u001b[49m\u001b[38;5;241;43m=\u001b[39;49m\u001b[38;5;241;43m0\u001b[39;49m\u001b[43m,\u001b[49m\u001b[43m \u001b[49m\u001b[43mreduce\u001b[49m\u001b[38;5;241;43m=\u001b[39;49m\u001b[38;5;124;43m'\u001b[39;49m\u001b[38;5;124;43madd\u001b[39;49m\u001b[38;5;124;43m'\u001b[39;49m\u001b[43m)\u001b[49m\n\u001b[1;32m     30\u001b[0m     out \u001b[38;5;241m=\u001b[39m \u001b[38;5;28mself\u001b[39m\u001b[38;5;241m.\u001b[39mtask_head(x_rep)\n\u001b[1;32m     32\u001b[0m     \u001b[38;5;28;01mreturn\u001b[39;00m out\n",
      "File \u001b[0;32m/project/dinner/zpengmei/conda_envs/torch/lib/python3.11/site-packages/torch_scatter/scatter.py:152\u001b[0m, in \u001b[0;36mscatter\u001b[0;34m(src, index, dim, out, dim_size, reduce)\u001b[0m\n\u001b[1;32m     78\u001b[0m \u001b[38;5;250m\u001b[39m\u001b[38;5;124mr\u001b[39m\u001b[38;5;124;03m\"\"\"\u001b[39;00m\n\u001b[1;32m     79\u001b[0m \u001b[38;5;124;03m|\u001b[39;00m\n\u001b[1;32m     80\u001b[0m \n\u001b[0;32m   (...)\u001b[0m\n\u001b[1;32m    149\u001b[0m \u001b[38;5;124;03m    torch.Size([10, 3, 64])\u001b[39;00m\n\u001b[1;32m    150\u001b[0m \u001b[38;5;124;03m\"\"\"\u001b[39;00m\n\u001b[1;32m    151\u001b[0m \u001b[38;5;28;01mif\u001b[39;00m reduce \u001b[38;5;241m==\u001b[39m \u001b[38;5;124m'\u001b[39m\u001b[38;5;124msum\u001b[39m\u001b[38;5;124m'\u001b[39m \u001b[38;5;129;01mor\u001b[39;00m reduce \u001b[38;5;241m==\u001b[39m \u001b[38;5;124m'\u001b[39m\u001b[38;5;124madd\u001b[39m\u001b[38;5;124m'\u001b[39m:\n\u001b[0;32m--> 152\u001b[0m     \u001b[38;5;28;01mreturn\u001b[39;00m \u001b[43mscatter_sum\u001b[49m\u001b[43m(\u001b[49m\u001b[43msrc\u001b[49m\u001b[43m,\u001b[49m\u001b[43m \u001b[49m\u001b[43mindex\u001b[49m\u001b[43m,\u001b[49m\u001b[43m \u001b[49m\u001b[43mdim\u001b[49m\u001b[43m,\u001b[49m\u001b[43m \u001b[49m\u001b[43mout\u001b[49m\u001b[43m,\u001b[49m\u001b[43m \u001b[49m\u001b[43mdim_size\u001b[49m\u001b[43m)\u001b[49m\n\u001b[1;32m    153\u001b[0m \u001b[38;5;28;01mif\u001b[39;00m reduce \u001b[38;5;241m==\u001b[39m \u001b[38;5;124m'\u001b[39m\u001b[38;5;124mmul\u001b[39m\u001b[38;5;124m'\u001b[39m:\n\u001b[1;32m    154\u001b[0m     \u001b[38;5;28;01mreturn\u001b[39;00m scatter_mul(src, index, dim, out, dim_size)\n",
      "File \u001b[0;32m/project/dinner/zpengmei/conda_envs/torch/lib/python3.11/site-packages/torch_scatter/scatter.py:19\u001b[0m, in \u001b[0;36mscatter_sum\u001b[0;34m(src, index, dim, out, dim_size)\u001b[0m\n\u001b[1;32m     17\u001b[0m     size[dim] \u001b[38;5;241m=\u001b[39m \u001b[38;5;241m0\u001b[39m\n\u001b[1;32m     18\u001b[0m \u001b[38;5;28;01melse\u001b[39;00m:\n\u001b[0;32m---> 19\u001b[0m     size[dim] \u001b[38;5;241m=\u001b[39m \u001b[38;5;28;43mint\u001b[39;49m\u001b[43m(\u001b[49m\u001b[43mindex\u001b[49m\u001b[38;5;241;43m.\u001b[39;49m\u001b[43mmax\u001b[49m\u001b[43m(\u001b[49m\u001b[43m)\u001b[49m\u001b[43m)\u001b[49m \u001b[38;5;241m+\u001b[39m \u001b[38;5;241m1\u001b[39m\n\u001b[1;32m     20\u001b[0m out \u001b[38;5;241m=\u001b[39m torch\u001b[38;5;241m.\u001b[39mzeros(size, dtype\u001b[38;5;241m=\u001b[39msrc\u001b[38;5;241m.\u001b[39mdtype, device\u001b[38;5;241m=\u001b[39msrc\u001b[38;5;241m.\u001b[39mdevice)\n\u001b[1;32m     21\u001b[0m \u001b[38;5;28;01mreturn\u001b[39;00m out\u001b[38;5;241m.\u001b[39mscatter_add_(dim, index, src)\n",
      "\u001b[0;31mKeyboardInterrupt\u001b[0m: "
     ]
    }
   ],
   "source": [
    "# train the model\n",
    "from tqdm import tqdm\n",
    "\n",
    "best_val_loss = None\n",
    "for epoch in tqdm(range(1, 101)):\n",
    "    loss = train()\n",
    "    print(f'Epoch: {epoch:03d}, Loss: {loss:.4f}')\n",
    "\n",
    "    # you can change the frequency of validation and test\n",
    "    if epoch % 2 == 0:\n",
    "        val_loss = test(val_loader)\n",
    "        print(f'Val Loss: {val_loss:.4f}')\n",
    "\n",
    "        if best_val_loss is None or val_loss <= best_val_loss:\n",
    "            best_val_loss = val_loss\n",
    "            # test the accuracy on the test set\n",
    "            test_loss = test(test_loader)\n",
    "            print(f'Test Loss: {test_loss:.4f}')\n"
   ]
  }
 ],
 "metadata": {
  "kernelspec": {
   "display_name": "Python 3 (ipykernel)",
   "language": "python",
   "name": "python3"
  },
  "language_info": {
   "codemirror_mode": {
    "name": "ipython",
    "version": 3
   },
   "file_extension": ".py",
   "mimetype": "text/x-python",
   "name": "python",
   "nbconvert_exporter": "python",
   "pygments_lexer": "ipython3",
   "version": "3.11.8"
  }
 },
 "nbformat": 4,
 "nbformat_minor": 2
}
